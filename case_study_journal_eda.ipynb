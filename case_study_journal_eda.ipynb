{
 "cells": [
  {
   "cell_type": "code",
   "execution_count": 66,
   "metadata": {},
   "outputs": [],
   "source": [
    "import pandas as pd\n",
    "import numpy as np\n",
    "import seaborn as sns\n",
    "import matplotlib.pyplot as plt"
   ]
  },
  {
   "cell_type": "code",
   "execution_count": null,
   "metadata": {},
   "outputs": [],
   "source": [
    "j13 = pd.read_csv(\"journal13.csv\")\n",
    "j14 = pd.read_csv(\"journal14.csv\")"
   ]
  },
  {
   "cell_type": "code",
   "execution_count": 3,
   "metadata": {},
   "outputs": [],
   "source": [
    "#j13 = pd.read_excel(\"ABC 2013 JEs.xlsx\")"
   ]
  },
  {
   "cell_type": "code",
   "execution_count": 6,
   "metadata": {},
   "outputs": [
    {
     "data": {
      "text/html": [
       "<div>\n",
       "<style scoped>\n",
       "    .dataframe tbody tr th:only-of-type {\n",
       "        vertical-align: middle;\n",
       "    }\n",
       "\n",
       "    .dataframe tbody tr th {\n",
       "        vertical-align: top;\n",
       "    }\n",
       "\n",
       "    .dataframe thead th {\n",
       "        text-align: right;\n",
       "    }\n",
       "</style>\n",
       "<table border=\"1\" class=\"dataframe\">\n",
       "  <thead>\n",
       "    <tr style=\"text-align: right;\">\n",
       "      <th></th>\n",
       "      <th>JE number</th>\n",
       "      <th>JE line number</th>\n",
       "      <th>GL account code</th>\n",
       "      <th>Fiscal year</th>\n",
       "      <th>Fiscal period</th>\n",
       "      <th>Effective date</th>\n",
       "      <th>Entry date</th>\n",
       "      <th>Source code</th>\n",
       "      <th>Source</th>\n",
       "      <th>Source group</th>\n",
       "      <th>Functional amount</th>\n",
       "      <th>Functional currency code</th>\n",
       "      <th>Business unit code</th>\n",
       "      <th>Business unit</th>\n",
       "      <th>Preparer ID</th>\n",
       "      <th>Preparer department</th>\n",
       "      <th>JE line description</th>\n",
       "      <th>Approver ID</th>\n",
       "      <th>Reversal Indicator</th>\n",
       "    </tr>\n",
       "  </thead>\n",
       "  <tbody>\n",
       "    <tr>\n",
       "      <th>0</th>\n",
       "      <td>2013-0001-0210000003</td>\n",
       "      <td>1</td>\n",
       "      <td>60000001</td>\n",
       "      <td>2013</td>\n",
       "      <td>1</td>\n",
       "      <td>2013-01-18</td>\n",
       "      <td>2013-01-21</td>\n",
       "      <td>FP</td>\n",
       "      <td>FP-Invoice promotion</td>\n",
       "      <td>Purchases</td>\n",
       "      <td>-84700.00</td>\n",
       "      <td>EUR</td>\n",
       "      <td>1</td>\n",
       "      <td>ABC Company</td>\n",
       "      <td>SYS</td>\n",
       "      <td>System</td>\n",
       "      <td>NaN</td>\n",
       "      <td>EY EMPTY</td>\n",
       "      <td>N</td>\n",
       "    </tr>\n",
       "    <tr>\n",
       "      <th>1</th>\n",
       "      <td>2013-0001-0210000003</td>\n",
       "      <td>2</td>\n",
       "      <td>60000113</td>\n",
       "      <td>2013</td>\n",
       "      <td>1</td>\n",
       "      <td>2013-01-18</td>\n",
       "      <td>2013-01-21</td>\n",
       "      <td>FP</td>\n",
       "      <td>FP-Invoice promotion</td>\n",
       "      <td>Purchases</td>\n",
       "      <td>70000.00</td>\n",
       "      <td>EUR</td>\n",
       "      <td>1</td>\n",
       "      <td>ABC Company</td>\n",
       "      <td>SYS</td>\n",
       "      <td>System</td>\n",
       "      <td>NaN</td>\n",
       "      <td>EY EMPTY</td>\n",
       "      <td>N</td>\n",
       "    </tr>\n",
       "    <tr>\n",
       "      <th>2</th>\n",
       "      <td>2013-0001-0210000003</td>\n",
       "      <td>3</td>\n",
       "      <td>20001102</td>\n",
       "      <td>2013</td>\n",
       "      <td>1</td>\n",
       "      <td>2013-01-18</td>\n",
       "      <td>2013-01-21</td>\n",
       "      <td>FP</td>\n",
       "      <td>FP-Invoice promotion</td>\n",
       "      <td>Purchases</td>\n",
       "      <td>14700.00</td>\n",
       "      <td>EUR</td>\n",
       "      <td>1</td>\n",
       "      <td>ABC Company</td>\n",
       "      <td>SYS</td>\n",
       "      <td>System</td>\n",
       "      <td>NaN</td>\n",
       "      <td>EY EMPTY</td>\n",
       "      <td>N</td>\n",
       "    </tr>\n",
       "    <tr>\n",
       "      <th>3</th>\n",
       "      <td>2013-0001-0210000006</td>\n",
       "      <td>1</td>\n",
       "      <td>60000001</td>\n",
       "      <td>2013</td>\n",
       "      <td>1</td>\n",
       "      <td>2013-01-18</td>\n",
       "      <td>2013-01-21</td>\n",
       "      <td>FP</td>\n",
       "      <td>FP-Invoice promotion</td>\n",
       "      <td>Purchases</td>\n",
       "      <td>-3274.26</td>\n",
       "      <td>EUR</td>\n",
       "      <td>1</td>\n",
       "      <td>ABC Company</td>\n",
       "      <td>SYS</td>\n",
       "      <td>System</td>\n",
       "      <td>JE Line Description1</td>\n",
       "      <td>EY EMPTY</td>\n",
       "      <td>N</td>\n",
       "    </tr>\n",
       "    <tr>\n",
       "      <th>4</th>\n",
       "      <td>2013-0001-0210000006</td>\n",
       "      <td>2</td>\n",
       "      <td>60000112</td>\n",
       "      <td>2013</td>\n",
       "      <td>1</td>\n",
       "      <td>2013-01-18</td>\n",
       "      <td>2013-01-21</td>\n",
       "      <td>FP</td>\n",
       "      <td>FP-Invoice promotion</td>\n",
       "      <td>Purchases</td>\n",
       "      <td>2706.00</td>\n",
       "      <td>EUR</td>\n",
       "      <td>1</td>\n",
       "      <td>ABC Company</td>\n",
       "      <td>SYS</td>\n",
       "      <td>System</td>\n",
       "      <td>NaN</td>\n",
       "      <td>EY EMPTY</td>\n",
       "      <td>N</td>\n",
       "    </tr>\n",
       "  </tbody>\n",
       "</table>\n",
       "</div>"
      ],
      "text/plain": [
       "              JE number  JE line number  GL account code  Fiscal year  \\\n",
       "0  2013-0001-0210000003               1         60000001         2013   \n",
       "1  2013-0001-0210000003               2         60000113         2013   \n",
       "2  2013-0001-0210000003               3         20001102         2013   \n",
       "3  2013-0001-0210000006               1         60000001         2013   \n",
       "4  2013-0001-0210000006               2         60000112         2013   \n",
       "\n",
       "   Fiscal period Effective date Entry date Source code                Source  \\\n",
       "0              1     2013-01-18 2013-01-21          FP  FP-Invoice promotion   \n",
       "1              1     2013-01-18 2013-01-21          FP  FP-Invoice promotion   \n",
       "2              1     2013-01-18 2013-01-21          FP  FP-Invoice promotion   \n",
       "3              1     2013-01-18 2013-01-21          FP  FP-Invoice promotion   \n",
       "4              1     2013-01-18 2013-01-21          FP  FP-Invoice promotion   \n",
       "\n",
       "  Source group  Functional amount Functional currency code  \\\n",
       "0    Purchases          -84700.00                      EUR   \n",
       "1    Purchases           70000.00                      EUR   \n",
       "2    Purchases           14700.00                      EUR   \n",
       "3    Purchases           -3274.26                      EUR   \n",
       "4    Purchases            2706.00                      EUR   \n",
       "\n",
       "   Business unit code Business unit Preparer ID Preparer department  \\\n",
       "0                   1   ABC Company         SYS              System   \n",
       "1                   1   ABC Company         SYS              System   \n",
       "2                   1   ABC Company         SYS              System   \n",
       "3                   1   ABC Company         SYS              System   \n",
       "4                   1   ABC Company         SYS              System   \n",
       "\n",
       "    JE line description Approver ID Reversal Indicator  \n",
       "0                   NaN    EY EMPTY                  N  \n",
       "1                   NaN    EY EMPTY                  N  \n",
       "2                   NaN    EY EMPTY                  N  \n",
       "3  JE Line Description1    EY EMPTY                  N  \n",
       "4                   NaN    EY EMPTY                  N  "
      ]
     },
     "execution_count": 6,
     "metadata": {},
     "output_type": "execute_result"
    }
   ],
   "source": [
    "j13.head()"
   ]
  },
  {
   "cell_type": "code",
   "execution_count": 4,
   "metadata": {},
   "outputs": [],
   "source": [
    "#j14 = pd.read_excel(\"ABC 2014 JEs.xlsx\")"
   ]
  },
  {
   "cell_type": "code",
   "execution_count": 9,
   "metadata": {},
   "outputs": [
    {
     "data": {
      "text/html": [
       "<div>\n",
       "<style scoped>\n",
       "    .dataframe tbody tr th:only-of-type {\n",
       "        vertical-align: middle;\n",
       "    }\n",
       "\n",
       "    .dataframe tbody tr th {\n",
       "        vertical-align: top;\n",
       "    }\n",
       "\n",
       "    .dataframe thead th {\n",
       "        text-align: right;\n",
       "    }\n",
       "</style>\n",
       "<table border=\"1\" class=\"dataframe\">\n",
       "  <thead>\n",
       "    <tr style=\"text-align: right;\">\n",
       "      <th></th>\n",
       "      <th>JE number</th>\n",
       "      <th>JE line number</th>\n",
       "      <th>GL account code</th>\n",
       "      <th>Fiscal year</th>\n",
       "      <th>Fiscal period</th>\n",
       "      <th>Effective date</th>\n",
       "      <th>Entry date</th>\n",
       "      <th>Source code</th>\n",
       "      <th>Source</th>\n",
       "      <th>Source group</th>\n",
       "      <th>Functional amount</th>\n",
       "      <th>Functional currency code</th>\n",
       "      <th>Business unit code</th>\n",
       "      <th>Business unit</th>\n",
       "      <th>Preparer ID</th>\n",
       "      <th>Preparer department</th>\n",
       "      <th>JE line description</th>\n",
       "      <th>Approver ID</th>\n",
       "      <th>Reversal Indicator</th>\n",
       "    </tr>\n",
       "  </thead>\n",
       "  <tbody>\n",
       "    <tr>\n",
       "      <th>0</th>\n",
       "      <td>2014-0001-0210000003</td>\n",
       "      <td>1</td>\n",
       "      <td>60000001</td>\n",
       "      <td>2014</td>\n",
       "      <td>1</td>\n",
       "      <td>2014-01-22</td>\n",
       "      <td>2014-01-22</td>\n",
       "      <td>FP</td>\n",
       "      <td>FP-Invoice promotion</td>\n",
       "      <td>Purchases</td>\n",
       "      <td>-148808.80</td>\n",
       "      <td>EUR</td>\n",
       "      <td>1</td>\n",
       "      <td>ABC Company</td>\n",
       "      <td>SYS</td>\n",
       "      <td>System</td>\n",
       "      <td>NaN</td>\n",
       "      <td>EY EMPTY</td>\n",
       "      <td>N</td>\n",
       "    </tr>\n",
       "    <tr>\n",
       "      <th>1</th>\n",
       "      <td>2014-0001-0210000003</td>\n",
       "      <td>2</td>\n",
       "      <td>60000112</td>\n",
       "      <td>2014</td>\n",
       "      <td>1</td>\n",
       "      <td>2014-01-22</td>\n",
       "      <td>2014-01-22</td>\n",
       "      <td>FP</td>\n",
       "      <td>FP-Invoice promotion</td>\n",
       "      <td>Purchases</td>\n",
       "      <td>4488.22</td>\n",
       "      <td>EUR</td>\n",
       "      <td>1</td>\n",
       "      <td>ABC Company</td>\n",
       "      <td>SYS</td>\n",
       "      <td>System</td>\n",
       "      <td>NaN</td>\n",
       "      <td>EY EMPTY</td>\n",
       "      <td>N</td>\n",
       "    </tr>\n",
       "    <tr>\n",
       "      <th>2</th>\n",
       "      <td>2014-0001-0210000003</td>\n",
       "      <td>3</td>\n",
       "      <td>60000112</td>\n",
       "      <td>2014</td>\n",
       "      <td>1</td>\n",
       "      <td>2014-01-22</td>\n",
       "      <td>2014-01-22</td>\n",
       "      <td>FP</td>\n",
       "      <td>FP-Invoice promotion</td>\n",
       "      <td>Purchases</td>\n",
       "      <td>5280.28</td>\n",
       "      <td>EUR</td>\n",
       "      <td>1</td>\n",
       "      <td>ABC Company</td>\n",
       "      <td>SYS</td>\n",
       "      <td>System</td>\n",
       "      <td>NaN</td>\n",
       "      <td>EY EMPTY</td>\n",
       "      <td>N</td>\n",
       "    </tr>\n",
       "    <tr>\n",
       "      <th>3</th>\n",
       "      <td>2014-0001-0210000003</td>\n",
       "      <td>4</td>\n",
       "      <td>60000112</td>\n",
       "      <td>2014</td>\n",
       "      <td>1</td>\n",
       "      <td>2014-01-22</td>\n",
       "      <td>2014-01-22</td>\n",
       "      <td>FP</td>\n",
       "      <td>FP-Invoice promotion</td>\n",
       "      <td>Purchases</td>\n",
       "      <td>102437.40</td>\n",
       "      <td>EUR</td>\n",
       "      <td>1</td>\n",
       "      <td>ABC Company</td>\n",
       "      <td>SYS</td>\n",
       "      <td>System</td>\n",
       "      <td>NaN</td>\n",
       "      <td>EY EMPTY</td>\n",
       "      <td>N</td>\n",
       "    </tr>\n",
       "    <tr>\n",
       "      <th>4</th>\n",
       "      <td>2014-0001-0210000003</td>\n",
       "      <td>5</td>\n",
       "      <td>60000112</td>\n",
       "      <td>2014</td>\n",
       "      <td>1</td>\n",
       "      <td>2014-01-22</td>\n",
       "      <td>2014-01-22</td>\n",
       "      <td>FP</td>\n",
       "      <td>FP-Invoice promotion</td>\n",
       "      <td>Purchases</td>\n",
       "      <td>4488.24</td>\n",
       "      <td>EUR</td>\n",
       "      <td>1</td>\n",
       "      <td>ABC Company</td>\n",
       "      <td>SYS</td>\n",
       "      <td>System</td>\n",
       "      <td>NaN</td>\n",
       "      <td>EY EMPTY</td>\n",
       "      <td>N</td>\n",
       "    </tr>\n",
       "  </tbody>\n",
       "</table>\n",
       "</div>"
      ],
      "text/plain": [
       "              JE number  JE line number  GL account code  Fiscal year  \\\n",
       "0  2014-0001-0210000003               1         60000001         2014   \n",
       "1  2014-0001-0210000003               2         60000112         2014   \n",
       "2  2014-0001-0210000003               3         60000112         2014   \n",
       "3  2014-0001-0210000003               4         60000112         2014   \n",
       "4  2014-0001-0210000003               5         60000112         2014   \n",
       "\n",
       "   Fiscal period Effective date Entry date Source code                Source  \\\n",
       "0              1     2014-01-22 2014-01-22          FP  FP-Invoice promotion   \n",
       "1              1     2014-01-22 2014-01-22          FP  FP-Invoice promotion   \n",
       "2              1     2014-01-22 2014-01-22          FP  FP-Invoice promotion   \n",
       "3              1     2014-01-22 2014-01-22          FP  FP-Invoice promotion   \n",
       "4              1     2014-01-22 2014-01-22          FP  FP-Invoice promotion   \n",
       "\n",
       "  Source group  Functional amount Functional currency code  \\\n",
       "0    Purchases         -148808.80                      EUR   \n",
       "1    Purchases            4488.22                      EUR   \n",
       "2    Purchases            5280.28                      EUR   \n",
       "3    Purchases          102437.40                      EUR   \n",
       "4    Purchases            4488.24                      EUR   \n",
       "\n",
       "   Business unit code Business unit Preparer ID Preparer department  \\\n",
       "0                   1   ABC Company         SYS              System   \n",
       "1                   1   ABC Company         SYS              System   \n",
       "2                   1   ABC Company         SYS              System   \n",
       "3                   1   ABC Company         SYS              System   \n",
       "4                   1   ABC Company         SYS              System   \n",
       "\n",
       "  JE line description Approver ID Reversal Indicator  \n",
       "0                 NaN    EY EMPTY                  N  \n",
       "1                 NaN    EY EMPTY                  N  \n",
       "2                 NaN    EY EMPTY                  N  \n",
       "3                 NaN    EY EMPTY                  N  \n",
       "4                 NaN    EY EMPTY                  N  "
      ]
     },
     "execution_count": 9,
     "metadata": {},
     "output_type": "execute_result"
    }
   ],
   "source": [
    "j14.head()"
   ]
  },
  {
   "cell_type": "markdown",
   "metadata": {},
   "source": [
    "**2013 sowie 2014 sind die Abweichungen der Summen von 0 bei den jeweiligen Journalnummern vernachlässigbar:**"
   ]
  },
  {
   "cell_type": "code",
   "execution_count": 11,
   "metadata": {},
   "outputs": [],
   "source": [
    "sums13 = j13.groupby(\"JE number\").aggregate({\"Functional amount\": sum})"
   ]
  },
  {
   "cell_type": "code",
   "execution_count": 19,
   "metadata": {},
   "outputs": [
    {
     "data": {
      "text/plain": [
       "True"
      ]
     },
     "execution_count": 19,
     "metadata": {},
     "output_type": "execute_result"
    }
   ],
   "source": [
    "sums13 = j13.groupby(\"JE number\").aggregate({\"Functional amount\": sum})\n",
    "all(np.abs(sums13[\"Functional amount\"]) < 1e-7)"
   ]
  },
  {
   "cell_type": "code",
   "execution_count": 20,
   "metadata": {
    "scrolled": false
   },
   "outputs": [
    {
     "data": {
      "text/plain": [
       "True"
      ]
     },
     "execution_count": 20,
     "metadata": {},
     "output_type": "execute_result"
    }
   ],
   "source": [
    "sums14 = j14.groupby(\"JE number\").aggregate({\"Functional amount\": sum})\n",
    "all(np.abs(sums14[\"Functional amount\"]) < 1e-7)"
   ]
  },
  {
   "cell_type": "markdown",
   "metadata": {},
   "source": [
    "**Wochentage**\n",
    "\n",
    "Effective date= Buchungsdatum  \n",
    "\n",
    "Entry date= Belegdatum"
   ]
  },
  {
   "cell_type": "code",
   "execution_count": null,
   "metadata": {},
   "outputs": [],
   "source": []
  },
  {
   "cell_type": "code",
   "execution_count": 5,
   "metadata": {},
   "outputs": [],
   "source": [
    "j13['DOW_entry_date'] = j13[\"Entry date\"].dt.dayofweek\n",
    "j13['DOW_effective_date'] = j13[\"Effective date\"].dt.dayofweek"
   ]
  },
  {
   "cell_type": "code",
   "execution_count": 6,
   "metadata": {},
   "outputs": [],
   "source": [
    "j14['DOW_entry_date'] = j14[\"Entry date\"].dt.dayofweek\n",
    "j14['DOW_effective_date'] = j14[\"Effective date\"].dt.dayofweek"
   ]
  },
  {
   "cell_type": "markdown",
   "metadata": {},
   "source": [
    "**Folgende Variablen beinhalten keine Informationen:**\n",
    "\n",
    "Functional currency code         \n",
    "Business unit code               \n",
    "Business unit                    \n",
    "Approver ID"
   ]
  },
  {
   "cell_type": "code",
   "execution_count": 5,
   "metadata": {},
   "outputs": [
    {
     "data": {
      "text/plain": [
       "JE number                   110285\n",
       "JE line number                 634\n",
       "GL account code                475\n",
       "Fiscal year                      1\n",
       "Fiscal period                   12\n",
       "Effective date                 364\n",
       "Entry date                     384\n",
       "Source code                     74\n",
       "Source                          74\n",
       "Source group                    14\n",
       "Functional amount           177204\n",
       "Functional currency code         1\n",
       "Business unit code               1\n",
       "Business unit                    1\n",
       "Preparer ID                     42\n",
       "Preparer department              7\n",
       "JE line description            264\n",
       "Approver ID                      1\n",
       "Reversal Indicator               2\n",
       "dtype: int64"
      ]
     },
     "execution_count": 5,
     "metadata": {},
     "output_type": "execute_result"
    }
   ],
   "source": [
    "j13.apply('nunique')"
   ]
  },
  {
   "cell_type": "code",
   "execution_count": 8,
   "metadata": {
    "scrolled": false
   },
   "outputs": [
    {
     "data": {
      "text/plain": [
       "JE number                    98823\n",
       "JE line number                 246\n",
       "GL account code                476\n",
       "Fiscal year                      1\n",
       "Fiscal period                   12\n",
       "Effective date                 363\n",
       "Entry date                     386\n",
       "Source code                     78\n",
       "Source                          78\n",
       "Source group                    15\n",
       "Functional amount           176453\n",
       "Functional currency code         1\n",
       "Business unit code               1\n",
       "Business unit                    1\n",
       "Preparer ID                     48\n",
       "Preparer department              9\n",
       "JE line description            264\n",
       "Approver ID                      1\n",
       "Reversal Indicator               2\n",
       "DOW_entry_date                   7\n",
       "DOW_effective_date               7\n",
       "dtype: int64"
      ]
     },
     "execution_count": 8,
     "metadata": {},
     "output_type": "execute_result"
    }
   ],
   "source": [
    "j14.apply('nunique')"
   ]
  },
  {
   "cell_type": "code",
   "execution_count": 9,
   "metadata": {},
   "outputs": [],
   "source": [
    "# j13.to_csv(\"journal13.csv\")\n",
    "# j14.to_csv(\"journal14.csv\")"
   ]
  },
  {
   "cell_type": "code",
   "execution_count": 20,
   "metadata": {},
   "outputs": [],
   "source": [
    "df = pd.concat([j13, j14])"
   ]
  },
  {
   "cell_type": "code",
   "execution_count": 24,
   "metadata": {},
   "outputs": [],
   "source": [
    "df.drop([\"Functional currency code\", \"Business unit code\", \"Business unit\", \"Approver ID\"], axis=1, inplace=True)"
   ]
  },
  {
   "cell_type": "markdown",
   "metadata": {},
   "source": [
    "**Es ist eine Aktivität an Sonntagen zu beobachten:**"
   ]
  },
  {
   "cell_type": "code",
   "execution_count": 80,
   "metadata": {},
   "outputs": [],
   "source": [
    "dow_counts = df.groupby(\"Fiscal year\").aggregate({\"DOW_entry_date\": \"value_counts\", \"DOW_effective_date\": \"value_counts\"})\n",
    "dow_counts.index.set_levels([[2013, 2014], ['Mon', 'Tue', 'Wed', 'Thu', 'Fri', 'Sat', 'Sun']], inplace=True)"
   ]
  },
  {
   "cell_type": "code",
   "execution_count": 81,
   "metadata": {},
   "outputs": [
    {
     "data": {
      "text/html": [
       "<div>\n",
       "<style scoped>\n",
       "    .dataframe tbody tr th:only-of-type {\n",
       "        vertical-align: middle;\n",
       "    }\n",
       "\n",
       "    .dataframe tbody tr th {\n",
       "        vertical-align: top;\n",
       "    }\n",
       "\n",
       "    .dataframe thead th {\n",
       "        text-align: right;\n",
       "    }\n",
       "</style>\n",
       "<table border=\"1\" class=\"dataframe\">\n",
       "  <thead>\n",
       "    <tr style=\"text-align: right;\">\n",
       "      <th></th>\n",
       "      <th></th>\n",
       "      <th>DOW_entry_date</th>\n",
       "      <th>DOW_effective_date</th>\n",
       "    </tr>\n",
       "  </thead>\n",
       "  <tbody>\n",
       "    <tr>\n",
       "      <th rowspan=\"7\" valign=\"top\">2013</th>\n",
       "      <th>Mon</th>\n",
       "      <td>74786</td>\n",
       "      <td>70403</td>\n",
       "    </tr>\n",
       "    <tr>\n",
       "      <th>Tue</th>\n",
       "      <td>79237</td>\n",
       "      <td>77552</td>\n",
       "    </tr>\n",
       "    <tr>\n",
       "      <th>Wed</th>\n",
       "      <td>75452</td>\n",
       "      <td>73589</td>\n",
       "    </tr>\n",
       "    <tr>\n",
       "      <th>Thu</th>\n",
       "      <td>79136</td>\n",
       "      <td>76101</td>\n",
       "    </tr>\n",
       "    <tr>\n",
       "      <th>Fri</th>\n",
       "      <td>67883</td>\n",
       "      <td>70014</td>\n",
       "    </tr>\n",
       "    <tr>\n",
       "      <th>Sat</th>\n",
       "      <td>5638</td>\n",
       "      <td>10752</td>\n",
       "    </tr>\n",
       "    <tr>\n",
       "      <th>Sun</th>\n",
       "      <td>1876</td>\n",
       "      <td>5597</td>\n",
       "    </tr>\n",
       "    <tr>\n",
       "      <th rowspan=\"7\" valign=\"top\">2014</th>\n",
       "      <th>Mon</th>\n",
       "      <td>65311</td>\n",
       "      <td>62390</td>\n",
       "    </tr>\n",
       "    <tr>\n",
       "      <th>Tue</th>\n",
       "      <td>71881</td>\n",
       "      <td>68085</td>\n",
       "    </tr>\n",
       "    <tr>\n",
       "      <th>Wed</th>\n",
       "      <td>70266</td>\n",
       "      <td>68936</td>\n",
       "    </tr>\n",
       "    <tr>\n",
       "      <th>Thu</th>\n",
       "      <td>69892</td>\n",
       "      <td>64150</td>\n",
       "    </tr>\n",
       "    <tr>\n",
       "      <th>Fri</th>\n",
       "      <td>66239</td>\n",
       "      <td>74523</td>\n",
       "    </tr>\n",
       "    <tr>\n",
       "      <th>Sat</th>\n",
       "      <td>5348</td>\n",
       "      <td>6846</td>\n",
       "    </tr>\n",
       "    <tr>\n",
       "      <th>Sun</th>\n",
       "      <td>1678</td>\n",
       "      <td>5685</td>\n",
       "    </tr>\n",
       "  </tbody>\n",
       "</table>\n",
       "</div>"
      ],
      "text/plain": [
       "          DOW_entry_date  DOW_effective_date\n",
       "2013 Mon           74786               70403\n",
       "     Tue           79237               77552\n",
       "     Wed           75452               73589\n",
       "     Thu           79136               76101\n",
       "     Fri           67883               70014\n",
       "     Sat            5638               10752\n",
       "     Sun            1876                5597\n",
       "2014 Mon           65311               62390\n",
       "     Tue           71881               68085\n",
       "     Wed           70266               68936\n",
       "     Thu           69892               64150\n",
       "     Fri           66239               74523\n",
       "     Sat            5348                6846\n",
       "     Sun            1678                5685"
      ]
     },
     "execution_count": 81,
     "metadata": {},
     "output_type": "execute_result"
    }
   ],
   "source": [
    "dow_counts"
   ]
  },
  {
   "cell_type": "code",
   "execution_count": 82,
   "metadata": {},
   "outputs": [
    {
     "data": {
      "text/plain": [
       "<matplotlib.axes._subplots.AxesSubplot at 0x1e294796668>"
      ]
     },
     "execution_count": 82,
     "metadata": {},
     "output_type": "execute_result"
    },
    {
     "data": {
      "image/png": "[encoded data removed]",
      "text/plain": [
       "<Figure size 1080x360 with 2 Axes>"
      ]
     },
     "metadata": {
      "needs_background": "light"
     },
     "output_type": "display_data"
    }
   ],
   "source": [
    "f, axes = plt.subplots(1, 2, figsize=(15, 5))\n",
    "dow_counts.loc[2013, \"DOW_entry_date\"].plot(\"barh\", title=\"Day of week (entry date, 2013)\", ax=axes[0])\n",
    "dow_counts.loc[2013, \"DOW_effective_date\"].plot(\"barh\", title=\"Day of week (effective date, 2013)\", ax=axes[1])"
   ]
  },
  {
   "cell_type": "code",
   "execution_count": 83,
   "metadata": {
    "scrolled": false
   },
   "outputs": [
    {
     "data": {
      "text/plain": [
       "<matplotlib.axes._subplots.AxesSubplot at 0x1e294a124a8>"
      ]
     },
     "execution_count": 83,
     "metadata": {},
     "output_type": "execute_result"
    },
    {
     "data": {
      "image/png": "[encoded data removed]",
      "text/plain": [
       "<Figure size 1080x360 with 2 Axes>"
      ]
     },
     "metadata": {
      "needs_background": "light"
     },
     "output_type": "display_data"
    }
   ],
   "source": [
    "f, axes = plt.subplots(1, 2, figsize=(15, 5))\n",
    "dow_counts.loc[2014, \"DOW_entry_date\"].plot(\"barh\", title=\"Day of week (entry date, 2014)\", ax=axes[0])\n",
    "dow_counts.loc[2014, \"DOW_effective_date\"].plot(\"barh\", title=\"Day of week (effective date, 2014)\", ax=axes[1])"
   ]
  },
  {
   "cell_type": "markdown",
   "metadata": {},
   "source": [
    "**Functional amount**"
   ]
  },
  {
   "cell_type": "code",
   "execution_count": 138,
   "metadata": {
    "scrolled": false
   },
   "outputs": [
    {
     "data": {
      "image/png": "[encoded data removed]",
      "text/plain": [
       "<Figure size 1080x576 with 1 Axes>"
      ]
     },
     "metadata": {
      "needs_background": "light"
     },
     "output_type": "display_data"
    }
   ],
   "source": [
    "plt.figure(figsize=(15,8))\n",
    "for day in sorted(j13.DOW_effective_date.unique()):\n",
    "    data = j13.query(\"DOW_effective_date == @day\")[\"Functional amount\"]\n",
    "    sns.kdeplot(data, label=day)\n",
    "# wtf is happening with you, seaborn\n",
    "# TODO: smth with y axis "
   ]
  },
  {
   "cell_type": "code",
   "execution_count": 133,
   "metadata": {},
   "outputs": [
    {
     "data": {
      "text/plain": [
       "Text(0.5, 0.98, 'Functional amount distribution (day of week), 2013')"
      ]
     },
     "execution_count": 133,
     "metadata": {},
     "output_type": "execute_result"
    },
    {
     "data": {
      "image/png": "[encoded data removed]",
      "text/plain": [
       "<Figure size 1080x1440 with 8 Axes>"
      ]
     },
     "metadata": {
      "needs_background": "light"
     },
     "output_type": "display_data"
    }
   ],
   "source": [
    "wdays = {0:\"Mon\", 1:\"Tue\", 2:\"Wed\", 3:\"Thu\", 4:\"Fri\", 5:\"Sat\", 6:\"Sun\"}\n",
    "f, axes = plt.subplots(4, 2, figsize=(15, 20))\n",
    "axes = axes.flatten()\n",
    "for day in sorted(j13.DOW_effective_date.unique()):\n",
    "    data = j13.query(\"DOW_effective_date == @day\")[\"Functional amount\"]\n",
    "    data.hist(bins=10, ax=axes[day]).set_title(wdays[day])\n",
    "    #sns.kdeplot(data, label=day, ax=axes[i])\n",
    "f.suptitle(\"Functional amount distribution (day of week), 2013\", fontsize=16)"
   ]
  }
 ],
 "metadata": {
  "kernelspec": {
   "display_name": "Python 3",
   "language": "python",
   "name": "python3"
  },
  "language_info": {
   "codemirror_mode": {
    "name": "ipython",
    "version": 3
   },
   "file_extension": ".py",
   "mimetype": "text/x-python",
   "name": "python",
   "nbconvert_exporter": "python",
   "pygments_lexer": "ipython3",
   "version": "3.6.4"
  }
 },
 "nbformat": 4,
 "nbformat_minor": 2
}
