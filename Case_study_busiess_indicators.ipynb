{
 "cells": [
  {
   "cell_type": "code",
   "execution_count": 1,
   "metadata": {},
   "outputs": [],
   "source": [
    "import pandas as pd\n",
    "import numpy as np"
   ]
  },
  {
   "cell_type": "markdown",
   "metadata": {},
   "source": [
    "### Journals year 13,14"
   ]
  },
  {
   "cell_type": "code",
   "execution_count": 6,
   "metadata": {},
   "outputs": [],
   "source": [
    "j14 = pd.read_excel(r'C:\\Users\\Stefan Kostelecky\\Documents\\FHWN\\2. Semester\\CaseStudy1\\LV_CaseStudy1_DemoDaten\\ABC 2014 JEs.xlsx',\n",
    "                  sheet_name='2014')\n",
    "j13 = pd.read_excel(r'C:\\Users\\Stefan Kostelecky\\Documents\\FHWN\\2. Semester\\CaseStudy1\\LV_CaseStudy1_DemoDaten\\ABC 2013 JEs.xlsx',\n",
    "                  sheet_name='2013')"
   ]
  },
  {
   "cell_type": "code",
   "execution_count": 66,
   "metadata": {},
   "outputs": [
    {
     "data": {
      "text/html": [
       "<div>\n",
       "<style scoped>\n",
       "    .dataframe tbody tr th:only-of-type {\n",
       "        vertical-align: middle;\n",
       "    }\n",
       "\n",
       "    .dataframe tbody tr th {\n",
       "        vertical-align: top;\n",
       "    }\n",
       "\n",
       "    .dataframe thead th {\n",
       "        text-align: right;\n",
       "    }\n",
       "</style>\n",
       "<table border=\"1\" class=\"dataframe\">\n",
       "  <thead>\n",
       "    <tr style=\"text-align: right;\">\n",
       "      <th></th>\n",
       "      <th>JE number</th>\n",
       "      <th>JE line number</th>\n",
       "      <th>GL account code</th>\n",
       "      <th>Fiscal year</th>\n",
       "      <th>Fiscal period</th>\n",
       "      <th>Effective date</th>\n",
       "      <th>Entry date</th>\n",
       "      <th>Source code</th>\n",
       "      <th>Source</th>\n",
       "      <th>Source group</th>\n",
       "      <th>Functional_Amount_13</th>\n",
       "      <th>GL account code.1</th>\n",
       "      <th>GL account name</th>\n",
       "      <th>Account type</th>\n",
       "      <th>Account sub type</th>\n",
       "      <th>Account class</th>\n",
       "      <th>type_statement</th>\n",
       "    </tr>\n",
       "  </thead>\n",
       "  <tbody>\n",
       "    <tr>\n",
       "      <th>0</th>\n",
       "      <td>2013-0001-0210000003</td>\n",
       "      <td>1</td>\n",
       "      <td>60000001</td>\n",
       "      <td>2013</td>\n",
       "      <td>1</td>\n",
       "      <td>2013-01-18</td>\n",
       "      <td>2013-01-21</td>\n",
       "      <td>FP</td>\n",
       "      <td>FP-Invoice promotion</td>\n",
       "      <td>Purchases</td>\n",
       "      <td>-84700.00</td>\n",
       "      <td>60000001</td>\n",
       "      <td>Payables - customer promotions</td>\n",
       "      <td>Liabilities</td>\n",
       "      <td>Current liabilities</td>\n",
       "      <td>Payables</td>\n",
       "      <td>0</td>\n",
       "    </tr>\n",
       "    <tr>\n",
       "      <th>1</th>\n",
       "      <td>2013-0001-0210000003</td>\n",
       "      <td>2</td>\n",
       "      <td>60000113</td>\n",
       "      <td>2013</td>\n",
       "      <td>1</td>\n",
       "      <td>2013-01-18</td>\n",
       "      <td>2013-01-21</td>\n",
       "      <td>FP</td>\n",
       "      <td>FP-Invoice promotion</td>\n",
       "      <td>Purchases</td>\n",
       "      <td>70000.00</td>\n",
       "      <td>60000113</td>\n",
       "      <td>Invoices to be received last year</td>\n",
       "      <td>Liabilities</td>\n",
       "      <td>Current liabilities</td>\n",
       "      <td>Payables</td>\n",
       "      <td>0</td>\n",
       "    </tr>\n",
       "    <tr>\n",
       "      <th>2</th>\n",
       "      <td>2013-0001-0210000003</td>\n",
       "      <td>3</td>\n",
       "      <td>20001102</td>\n",
       "      <td>2013</td>\n",
       "      <td>1</td>\n",
       "      <td>2013-01-18</td>\n",
       "      <td>2013-01-21</td>\n",
       "      <td>FP</td>\n",
       "      <td>FP-Invoice promotion</td>\n",
       "      <td>Purchases</td>\n",
       "      <td>14700.00</td>\n",
       "      <td>20001102</td>\n",
       "      <td>VAT purchases 1</td>\n",
       "      <td>Assets</td>\n",
       "      <td>Current assets</td>\n",
       "      <td>Receivables</td>\n",
       "      <td>0</td>\n",
       "    </tr>\n",
       "    <tr>\n",
       "      <th>3</th>\n",
       "      <td>2013-0001-0210000006</td>\n",
       "      <td>1</td>\n",
       "      <td>60000001</td>\n",
       "      <td>2013</td>\n",
       "      <td>1</td>\n",
       "      <td>2013-01-18</td>\n",
       "      <td>2013-01-21</td>\n",
       "      <td>FP</td>\n",
       "      <td>FP-Invoice promotion</td>\n",
       "      <td>Purchases</td>\n",
       "      <td>-3274.26</td>\n",
       "      <td>60000001</td>\n",
       "      <td>Payables - customer promotions</td>\n",
       "      <td>Liabilities</td>\n",
       "      <td>Current liabilities</td>\n",
       "      <td>Payables</td>\n",
       "      <td>0</td>\n",
       "    </tr>\n",
       "    <tr>\n",
       "      <th>4</th>\n",
       "      <td>2013-0001-0210000006</td>\n",
       "      <td>2</td>\n",
       "      <td>60000112</td>\n",
       "      <td>2013</td>\n",
       "      <td>1</td>\n",
       "      <td>2013-01-18</td>\n",
       "      <td>2013-01-21</td>\n",
       "      <td>FP</td>\n",
       "      <td>FP-Invoice promotion</td>\n",
       "      <td>Purchases</td>\n",
       "      <td>2706.00</td>\n",
       "      <td>60000112</td>\n",
       "      <td>Invoices to receive promotional last year</td>\n",
       "      <td>Liabilities</td>\n",
       "      <td>Current liabilities</td>\n",
       "      <td>Payables</td>\n",
       "      <td>0</td>\n",
       "    </tr>\n",
       "  </tbody>\n",
       "</table>\n",
       "</div>"
      ],
      "text/plain": [
       "              JE number  JE line number  GL account code  Fiscal year  \\\n",
       "0  2013-0001-0210000003               1         60000001         2013   \n",
       "1  2013-0001-0210000003               2         60000113         2013   \n",
       "2  2013-0001-0210000003               3         20001102         2013   \n",
       "3  2013-0001-0210000006               1         60000001         2013   \n",
       "4  2013-0001-0210000006               2         60000112         2013   \n",
       "\n",
       "   Fiscal period Effective date Entry date Source code                Source  \\\n",
       "0              1     2013-01-18 2013-01-21          FP  FP-Invoice promotion   \n",
       "1              1     2013-01-18 2013-01-21          FP  FP-Invoice promotion   \n",
       "2              1     2013-01-18 2013-01-21          FP  FP-Invoice promotion   \n",
       "3              1     2013-01-18 2013-01-21          FP  FP-Invoice promotion   \n",
       "4              1     2013-01-18 2013-01-21          FP  FP-Invoice promotion   \n",
       "\n",
       "  Source group  Functional_Amount_13  GL account code.1  \\\n",
       "0    Purchases             -84700.00           60000001   \n",
       "1    Purchases              70000.00           60000113   \n",
       "2    Purchases              14700.00           20001102   \n",
       "3    Purchases              -3274.26           60000001   \n",
       "4    Purchases               2706.00           60000112   \n",
       "\n",
       "                             GL account name Account type  \\\n",
       "0             Payables - customer promotions  Liabilities   \n",
       "1          Invoices to be received last year  Liabilities   \n",
       "2                            VAT purchases 1       Assets   \n",
       "3             Payables - customer promotions  Liabilities   \n",
       "4  Invoices to receive promotional last year  Liabilities   \n",
       "\n",
       "      Account sub type Account class  type_statement  \n",
       "0  Current liabilities      Payables               0  \n",
       "1  Current liabilities      Payables               0  \n",
       "2       Current assets   Receivables               0  \n",
       "3  Current liabilities      Payables               0  \n",
       "4  Current liabilities      Payables               0  "
      ]
     },
     "execution_count": 66,
     "metadata": {},
     "output_type": "execute_result"
    }
   ],
   "source": [
    "j13.head()"
   ]
  },
  {
   "cell_type": "code",
   "execution_count": 525,
   "metadata": {},
   "outputs": [
    {
     "data": {
      "text/html": [
       "<div>\n",
       "<style scoped>\n",
       "    .dataframe tbody tr th:only-of-type {\n",
       "        vertical-align: middle;\n",
       "    }\n",
       "\n",
       "    .dataframe tbody tr th {\n",
       "        vertical-align: top;\n",
       "    }\n",
       "\n",
       "    .dataframe thead th {\n",
       "        text-align: right;\n",
       "    }\n",
       "</style>\n",
       "<table border=\"1\" class=\"dataframe\">\n",
       "  <thead>\n",
       "    <tr style=\"text-align: right;\">\n",
       "      <th></th>\n",
       "      <th>JE number</th>\n",
       "      <th>JE line number</th>\n",
       "      <th>GL account code</th>\n",
       "      <th>Fiscal year</th>\n",
       "      <th>Fiscal period</th>\n",
       "      <th>Effective date</th>\n",
       "      <th>Entry date</th>\n",
       "      <th>Source code</th>\n",
       "      <th>Source</th>\n",
       "      <th>Source group</th>\n",
       "      <th>Functional_Amount_14</th>\n",
       "      <th>GL account code.1</th>\n",
       "      <th>GL account name</th>\n",
       "      <th>Account type</th>\n",
       "      <th>Account sub type</th>\n",
       "      <th>Account class</th>\n",
       "      <th>type_statement</th>\n",
       "    </tr>\n",
       "  </thead>\n",
       "  <tbody>\n",
       "    <tr>\n",
       "      <th>0</th>\n",
       "      <td>2014-0001-0210000003</td>\n",
       "      <td>1</td>\n",
       "      <td>60000001</td>\n",
       "      <td>2014</td>\n",
       "      <td>1</td>\n",
       "      <td>2014-01-22</td>\n",
       "      <td>2014-01-22</td>\n",
       "      <td>FP</td>\n",
       "      <td>FP-Invoice promotion</td>\n",
       "      <td>Purchases</td>\n",
       "      <td>-148808.80</td>\n",
       "      <td>60000001</td>\n",
       "      <td>Payables - customer promotions</td>\n",
       "      <td>Liabilities</td>\n",
       "      <td>Current liabilities</td>\n",
       "      <td>Payables</td>\n",
       "      <td>balance_statement</td>\n",
       "    </tr>\n",
       "    <tr>\n",
       "      <th>1</th>\n",
       "      <td>2014-0001-0210000003</td>\n",
       "      <td>2</td>\n",
       "      <td>60000112</td>\n",
       "      <td>2014</td>\n",
       "      <td>1</td>\n",
       "      <td>2014-01-22</td>\n",
       "      <td>2014-01-22</td>\n",
       "      <td>FP</td>\n",
       "      <td>FP-Invoice promotion</td>\n",
       "      <td>Purchases</td>\n",
       "      <td>4488.22</td>\n",
       "      <td>60000112</td>\n",
       "      <td>Invoices to receive promotional last year</td>\n",
       "      <td>Liabilities</td>\n",
       "      <td>Current liabilities</td>\n",
       "      <td>Payables</td>\n",
       "      <td>balance_statement</td>\n",
       "    </tr>\n",
       "    <tr>\n",
       "      <th>2</th>\n",
       "      <td>2014-0001-0210000003</td>\n",
       "      <td>3</td>\n",
       "      <td>60000112</td>\n",
       "      <td>2014</td>\n",
       "      <td>1</td>\n",
       "      <td>2014-01-22</td>\n",
       "      <td>2014-01-22</td>\n",
       "      <td>FP</td>\n",
       "      <td>FP-Invoice promotion</td>\n",
       "      <td>Purchases</td>\n",
       "      <td>5280.28</td>\n",
       "      <td>60000112</td>\n",
       "      <td>Invoices to receive promotional last year</td>\n",
       "      <td>Liabilities</td>\n",
       "      <td>Current liabilities</td>\n",
       "      <td>Payables</td>\n",
       "      <td>balance_statement</td>\n",
       "    </tr>\n",
       "    <tr>\n",
       "      <th>3</th>\n",
       "      <td>2014-0001-0210000003</td>\n",
       "      <td>4</td>\n",
       "      <td>60000112</td>\n",
       "      <td>2014</td>\n",
       "      <td>1</td>\n",
       "      <td>2014-01-22</td>\n",
       "      <td>2014-01-22</td>\n",
       "      <td>FP</td>\n",
       "      <td>FP-Invoice promotion</td>\n",
       "      <td>Purchases</td>\n",
       "      <td>102437.40</td>\n",
       "      <td>60000112</td>\n",
       "      <td>Invoices to receive promotional last year</td>\n",
       "      <td>Liabilities</td>\n",
       "      <td>Current liabilities</td>\n",
       "      <td>Payables</td>\n",
       "      <td>balance_statement</td>\n",
       "    </tr>\n",
       "    <tr>\n",
       "      <th>4</th>\n",
       "      <td>2014-0001-0210000003</td>\n",
       "      <td>5</td>\n",
       "      <td>60000112</td>\n",
       "      <td>2014</td>\n",
       "      <td>1</td>\n",
       "      <td>2014-01-22</td>\n",
       "      <td>2014-01-22</td>\n",
       "      <td>FP</td>\n",
       "      <td>FP-Invoice promotion</td>\n",
       "      <td>Purchases</td>\n",
       "      <td>4488.24</td>\n",
       "      <td>60000112</td>\n",
       "      <td>Invoices to receive promotional last year</td>\n",
       "      <td>Liabilities</td>\n",
       "      <td>Current liabilities</td>\n",
       "      <td>Payables</td>\n",
       "      <td>balance_statement</td>\n",
       "    </tr>\n",
       "  </tbody>\n",
       "</table>\n",
       "</div>"
      ],
      "text/plain": [
       "              JE number  JE line number  GL account code  Fiscal year  \\\n",
       "0  2014-0001-0210000003               1         60000001         2014   \n",
       "1  2014-0001-0210000003               2         60000112         2014   \n",
       "2  2014-0001-0210000003               3         60000112         2014   \n",
       "3  2014-0001-0210000003               4         60000112         2014   \n",
       "4  2014-0001-0210000003               5         60000112         2014   \n",
       "\n",
       "   Fiscal period Effective date Entry date Source code                Source  \\\n",
       "0              1     2014-01-22 2014-01-22          FP  FP-Invoice promotion   \n",
       "1              1     2014-01-22 2014-01-22          FP  FP-Invoice promotion   \n",
       "2              1     2014-01-22 2014-01-22          FP  FP-Invoice promotion   \n",
       "3              1     2014-01-22 2014-01-22          FP  FP-Invoice promotion   \n",
       "4              1     2014-01-22 2014-01-22          FP  FP-Invoice promotion   \n",
       "\n",
       "  Source group  Functional_Amount_14  GL account code.1  \\\n",
       "0    Purchases            -148808.80           60000001   \n",
       "1    Purchases               4488.22           60000112   \n",
       "2    Purchases               5280.28           60000112   \n",
       "3    Purchases             102437.40           60000112   \n",
       "4    Purchases               4488.24           60000112   \n",
       "\n",
       "                             GL account name Account type  \\\n",
       "0             Payables - customer promotions  Liabilities   \n",
       "1  Invoices to receive promotional last year  Liabilities   \n",
       "2  Invoices to receive promotional last year  Liabilities   \n",
       "3  Invoices to receive promotional last year  Liabilities   \n",
       "4  Invoices to receive promotional last year  Liabilities   \n",
       "\n",
       "      Account sub type Account class     type_statement  \n",
       "0  Current liabilities      Payables  balance_statement  \n",
       "1  Current liabilities      Payables  balance_statement  \n",
       "2  Current liabilities      Payables  balance_statement  \n",
       "3  Current liabilities      Payables  balance_statement  \n",
       "4  Current liabilities      Payables  balance_statement  "
      ]
     },
     "execution_count": 525,
     "metadata": {},
     "output_type": "execute_result"
    }
   ],
   "source": [
    "j14.head()"
   ]
  },
  {
   "cell_type": "markdown",
   "metadata": {},
   "source": [
    "### totalBalances year 13,14"
   ]
  },
  {
   "cell_type": "code",
   "execution_count": 216,
   "metadata": {},
   "outputs": [],
   "source": [
    "tb13 = pd.read_excel(r'C:\\Users\\Stefan Kostelecky\\Documents\\FHWN\\2. Semester\\CaseStudy1\\LV_CaseStudy1_DemoDaten\\ABC TB and CoA.xlsx',\n",
    "             sheet_name='ABC TB 2013')\n",
    "tb14 = pd.read_excel(r'C:\\Users\\Stefan Kostelecky\\Documents\\FHWN\\2. Semester\\CaseStudy1\\LV_CaseStudy1_DemoDaten\\ABC TB and CoA.xlsx',\n",
    "             sheet_name='ABC TB 2014')"
   ]
  },
  {
   "cell_type": "code",
   "execution_count": 217,
   "metadata": {},
   "outputs": [
    {
     "data": {
      "text/html": [
       "<div>\n",
       "<style scoped>\n",
       "    .dataframe tbody tr th:only-of-type {\n",
       "        vertical-align: middle;\n",
       "    }\n",
       "\n",
       "    .dataframe tbody tr th {\n",
       "        vertical-align: top;\n",
       "    }\n",
       "\n",
       "    .dataframe thead th {\n",
       "        text-align: right;\n",
       "    }\n",
       "</style>\n",
       "<table border=\"1\" class=\"dataframe\">\n",
       "  <thead>\n",
       "    <tr style=\"text-align: right;\">\n",
       "      <th></th>\n",
       "      <th>GL account code</th>\n",
       "      <th>GL account name</th>\n",
       "      <th>Account type</th>\n",
       "      <th>Account sub type</th>\n",
       "      <th>Account class</th>\n",
       "      <th>Account sub class</th>\n",
       "      <th>Functional opening balance</th>\n",
       "      <th>Functional closing balance</th>\n",
       "      <th>Business unit code</th>\n",
       "      <th>Business unit</th>\n",
       "      <th>Trial balance start date</th>\n",
       "      <th>Trial balance end date</th>\n",
       "      <th>Fiscal year</th>\n",
       "      <th>Fiscal period</th>\n",
       "      <th>Functional currency code</th>\n",
       "    </tr>\n",
       "  </thead>\n",
       "  <tbody>\n",
       "    <tr>\n",
       "      <th>0</th>\n",
       "      <td>20000050</td>\n",
       "      <td>Customer invoices to be issued</td>\n",
       "      <td>Assets</td>\n",
       "      <td>Current assets</td>\n",
       "      <td>Receivables</td>\n",
       "      <td>Trade receivables</td>\n",
       "      <td>5416.00</td>\n",
       "      <td>114226.00</td>\n",
       "      <td>1</td>\n",
       "      <td>ABC Company</td>\n",
       "      <td>2013-01-01</td>\n",
       "      <td>2013-12-31</td>\n",
       "      <td>2013</td>\n",
       "      <td>13</td>\n",
       "      <td>EUR</td>\n",
       "    </tr>\n",
       "    <tr>\n",
       "      <th>1</th>\n",
       "      <td>20000051</td>\n",
       "      <td>Credit notes to be issued</td>\n",
       "      <td>Assets</td>\n",
       "      <td>Current assets</td>\n",
       "      <td>Receivables</td>\n",
       "      <td>Trade receivables</td>\n",
       "      <td>0.00</td>\n",
       "      <td>0.00</td>\n",
       "      <td>1</td>\n",
       "      <td>ABC Company</td>\n",
       "      <td>2013-01-01</td>\n",
       "      <td>2013-12-31</td>\n",
       "      <td>2013</td>\n",
       "      <td>13</td>\n",
       "      <td>EUR</td>\n",
       "    </tr>\n",
       "    <tr>\n",
       "      <th>2</th>\n",
       "      <td>20000000</td>\n",
       "      <td>Receivables - domestic customer</td>\n",
       "      <td>Assets</td>\n",
       "      <td>Current assets</td>\n",
       "      <td>Receivables</td>\n",
       "      <td>Trade receivables</td>\n",
       "      <td>58638227.08</td>\n",
       "      <td>57451732.18</td>\n",
       "      <td>1</td>\n",
       "      <td>ABC Company</td>\n",
       "      <td>2013-01-01</td>\n",
       "      <td>2013-12-31</td>\n",
       "      <td>2013</td>\n",
       "      <td>13</td>\n",
       "      <td>EUR</td>\n",
       "    </tr>\n",
       "    <tr>\n",
       "      <th>3</th>\n",
       "      <td>20000021</td>\n",
       "      <td>Receivables - in receivership</td>\n",
       "      <td>Assets</td>\n",
       "      <td>Current assets</td>\n",
       "      <td>Receivables</td>\n",
       "      <td>Trade receivables</td>\n",
       "      <td>0.00</td>\n",
       "      <td>2904.00</td>\n",
       "      <td>1</td>\n",
       "      <td>ABC Company</td>\n",
       "      <td>2013-01-01</td>\n",
       "      <td>2013-12-31</td>\n",
       "      <td>2013</td>\n",
       "      <td>13</td>\n",
       "      <td>EUR</td>\n",
       "    </tr>\n",
       "    <tr>\n",
       "      <th>4</th>\n",
       "      <td>20000002</td>\n",
       "      <td>Receivables - customers other sales</td>\n",
       "      <td>Assets</td>\n",
       "      <td>Current assets</td>\n",
       "      <td>Receivables</td>\n",
       "      <td>Trade receivables</td>\n",
       "      <td>740147.12</td>\n",
       "      <td>525066.20</td>\n",
       "      <td>1</td>\n",
       "      <td>ABC Company</td>\n",
       "      <td>2013-01-01</td>\n",
       "      <td>2013-12-31</td>\n",
       "      <td>2013</td>\n",
       "      <td>13</td>\n",
       "      <td>EUR</td>\n",
       "    </tr>\n",
       "  </tbody>\n",
       "</table>\n",
       "</div>"
      ],
      "text/plain": [
       "   GL account code                      GL account name Account type  \\\n",
       "0         20000050       Customer invoices to be issued       Assets   \n",
       "1         20000051            Credit notes to be issued       Assets   \n",
       "2         20000000      Receivables - domestic customer       Assets   \n",
       "3         20000021        Receivables - in receivership       Assets   \n",
       "4         20000002  Receivables - customers other sales       Assets   \n",
       "\n",
       "  Account sub type Account class  Account sub class  \\\n",
       "0   Current assets   Receivables  Trade receivables   \n",
       "1   Current assets   Receivables  Trade receivables   \n",
       "2   Current assets   Receivables  Trade receivables   \n",
       "3   Current assets   Receivables  Trade receivables   \n",
       "4   Current assets   Receivables  Trade receivables   \n",
       "\n",
       "   Functional opening balance  Functional closing balance  Business unit code  \\\n",
       "0                     5416.00                   114226.00                   1   \n",
       "1                        0.00                        0.00                   1   \n",
       "2                 58638227.08                 57451732.18                   1   \n",
       "3                        0.00                     2904.00                   1   \n",
       "4                   740147.12                   525066.20                   1   \n",
       "\n",
       "  Business unit Trial balance start date Trial balance end date  Fiscal year  \\\n",
       "0   ABC Company               2013-01-01             2013-12-31         2013   \n",
       "1   ABC Company               2013-01-01             2013-12-31         2013   \n",
       "2   ABC Company               2013-01-01             2013-12-31         2013   \n",
       "3   ABC Company               2013-01-01             2013-12-31         2013   \n",
       "4   ABC Company               2013-01-01             2013-12-31         2013   \n",
       "\n",
       "   Fiscal period Functional currency code  \n",
       "0             13                      EUR  \n",
       "1             13                      EUR  \n",
       "2             13                      EUR  \n",
       "3             13                      EUR  \n",
       "4             13                      EUR  "
      ]
     },
     "execution_count": 217,
     "metadata": {},
     "output_type": "execute_result"
    }
   ],
   "source": [
    "tb13.head()"
   ]
  },
  {
   "cell_type": "code",
   "execution_count": 218,
   "metadata": {},
   "outputs": [
    {
     "data": {
      "text/html": [
       "<div>\n",
       "<style scoped>\n",
       "    .dataframe tbody tr th:only-of-type {\n",
       "        vertical-align: middle;\n",
       "    }\n",
       "\n",
       "    .dataframe tbody tr th {\n",
       "        vertical-align: top;\n",
       "    }\n",
       "\n",
       "    .dataframe thead th {\n",
       "        text-align: right;\n",
       "    }\n",
       "</style>\n",
       "<table border=\"1\" class=\"dataframe\">\n",
       "  <thead>\n",
       "    <tr style=\"text-align: right;\">\n",
       "      <th></th>\n",
       "      <th>GL account code</th>\n",
       "      <th>GL account name</th>\n",
       "      <th>Account type</th>\n",
       "      <th>Account sub type</th>\n",
       "      <th>Account class</th>\n",
       "      <th>Account sub class</th>\n",
       "      <th>Functional opening balance</th>\n",
       "      <th>Functional closing balance</th>\n",
       "      <th>Business unit code</th>\n",
       "      <th>Business unit</th>\n",
       "      <th>Trial balance start date</th>\n",
       "      <th>Trial balance end date</th>\n",
       "      <th>Fiscal year</th>\n",
       "      <th>Fiscal period</th>\n",
       "      <th>Functional currency code</th>\n",
       "    </tr>\n",
       "  </thead>\n",
       "  <tbody>\n",
       "    <tr>\n",
       "      <th>0</th>\n",
       "      <td>20000050</td>\n",
       "      <td>Customer invoices to be issued</td>\n",
       "      <td>Assets</td>\n",
       "      <td>Current assets</td>\n",
       "      <td>Receivables</td>\n",
       "      <td>Trade receivables</td>\n",
       "      <td>114226.00</td>\n",
       "      <td>57354.48</td>\n",
       "      <td>1</td>\n",
       "      <td>ABC Company</td>\n",
       "      <td>2014-01-01</td>\n",
       "      <td>2014-12-31</td>\n",
       "      <td>2014</td>\n",
       "      <td>13</td>\n",
       "      <td>EUR</td>\n",
       "    </tr>\n",
       "    <tr>\n",
       "      <th>1</th>\n",
       "      <td>20000051</td>\n",
       "      <td>Credit notes to be issued</td>\n",
       "      <td>Assets</td>\n",
       "      <td>Current assets</td>\n",
       "      <td>Receivables</td>\n",
       "      <td>Trade receivables</td>\n",
       "      <td>0.00</td>\n",
       "      <td>-4627.64</td>\n",
       "      <td>1</td>\n",
       "      <td>ABC Company</td>\n",
       "      <td>2014-01-01</td>\n",
       "      <td>2014-12-31</td>\n",
       "      <td>2014</td>\n",
       "      <td>13</td>\n",
       "      <td>EUR</td>\n",
       "    </tr>\n",
       "    <tr>\n",
       "      <th>2</th>\n",
       "      <td>20000000</td>\n",
       "      <td>Receivables - domestic customer</td>\n",
       "      <td>Assets</td>\n",
       "      <td>Current assets</td>\n",
       "      <td>Receivables</td>\n",
       "      <td>Trade receivables</td>\n",
       "      <td>57451732.18</td>\n",
       "      <td>43878758.58</td>\n",
       "      <td>1</td>\n",
       "      <td>ABC Company</td>\n",
       "      <td>2014-01-01</td>\n",
       "      <td>2014-12-31</td>\n",
       "      <td>2014</td>\n",
       "      <td>13</td>\n",
       "      <td>EUR</td>\n",
       "    </tr>\n",
       "    <tr>\n",
       "      <th>3</th>\n",
       "      <td>20000021</td>\n",
       "      <td>Receivables - in receivership</td>\n",
       "      <td>Assets</td>\n",
       "      <td>Current assets</td>\n",
       "      <td>Receivables</td>\n",
       "      <td>Trade receivables</td>\n",
       "      <td>2904.00</td>\n",
       "      <td>2178.00</td>\n",
       "      <td>1</td>\n",
       "      <td>ABC Company</td>\n",
       "      <td>2014-01-01</td>\n",
       "      <td>2014-12-31</td>\n",
       "      <td>2014</td>\n",
       "      <td>13</td>\n",
       "      <td>EUR</td>\n",
       "    </tr>\n",
       "    <tr>\n",
       "      <th>4</th>\n",
       "      <td>20000002</td>\n",
       "      <td>Receivables - customers other sales</td>\n",
       "      <td>Assets</td>\n",
       "      <td>Current assets</td>\n",
       "      <td>Receivables</td>\n",
       "      <td>Trade receivables</td>\n",
       "      <td>525066.20</td>\n",
       "      <td>394025.48</td>\n",
       "      <td>1</td>\n",
       "      <td>ABC Company</td>\n",
       "      <td>2014-01-01</td>\n",
       "      <td>2014-12-31</td>\n",
       "      <td>2014</td>\n",
       "      <td>13</td>\n",
       "      <td>EUR</td>\n",
       "    </tr>\n",
       "  </tbody>\n",
       "</table>\n",
       "</div>"
      ],
      "text/plain": [
       "   GL account code                      GL account name Account type  \\\n",
       "0         20000050       Customer invoices to be issued       Assets   \n",
       "1         20000051            Credit notes to be issued       Assets   \n",
       "2         20000000      Receivables - domestic customer       Assets   \n",
       "3         20000021        Receivables - in receivership       Assets   \n",
       "4         20000002  Receivables - customers other sales       Assets   \n",
       "\n",
       "  Account sub type Account class  Account sub class  \\\n",
       "0   Current assets   Receivables  Trade receivables   \n",
       "1   Current assets   Receivables  Trade receivables   \n",
       "2   Current assets   Receivables  Trade receivables   \n",
       "3   Current assets   Receivables  Trade receivables   \n",
       "4   Current assets   Receivables  Trade receivables   \n",
       "\n",
       "   Functional opening balance  Functional closing balance  Business unit code  \\\n",
       "0                   114226.00                    57354.48                   1   \n",
       "1                        0.00                    -4627.64                   1   \n",
       "2                 57451732.18                 43878758.58                   1   \n",
       "3                     2904.00                     2178.00                   1   \n",
       "4                   525066.20                   394025.48                   1   \n",
       "\n",
       "  Business unit Trial balance start date Trial balance end date  Fiscal year  \\\n",
       "0   ABC Company               2014-01-01             2014-12-31         2014   \n",
       "1   ABC Company               2014-01-01             2014-12-31         2014   \n",
       "2   ABC Company               2014-01-01             2014-12-31         2014   \n",
       "3   ABC Company               2014-01-01             2014-12-31         2014   \n",
       "4   ABC Company               2014-01-01             2014-12-31         2014   \n",
       "\n",
       "   Fiscal period Functional currency code  \n",
       "0             13                      EUR  \n",
       "1             13                      EUR  \n",
       "2             13                      EUR  \n",
       "3             13                      EUR  \n",
       "4             13                      EUR  "
      ]
     },
     "execution_count": 218,
     "metadata": {},
     "output_type": "execute_result"
    }
   ],
   "source": [
    "tb14.head()"
   ]
  },
  {
   "cell_type": "code",
   "execution_count": 83,
   "metadata": {},
   "outputs": [
    {
     "data": {
      "text/plain": [
       "array(['Purchases', 'Sales adjustments', 'Fixed assets', 'Transfers',\n",
       "       'Source group 1', 'Receivables adj', 'GL document', 'Wages',\n",
       "       'Accruals', 'Sales accruals', 'Cash in', 'Cash out', 'Sales',\n",
       "       'Sales manual', 'Goods receipts'], dtype=object)"
      ]
     },
     "execution_count": 83,
     "metadata": {},
     "output_type": "execute_result"
    }
   ],
   "source": [
    "j14['Source group'].unique()"
   ]
  },
  {
   "cell_type": "code",
   "execution_count": 64,
   "metadata": {},
   "outputs": [
    {
     "data": {
      "text/plain": [
       "array(['Liabilities', 'Assets', 'Expenses', 'Revenue', 'Equity'],\n",
       "      dtype=object)"
      ]
     },
     "execution_count": 64,
     "metadata": {},
     "output_type": "execute_result"
    }
   ],
   "source": [
    "j13['Account type'].unique()"
   ]
  },
  {
   "cell_type": "code",
   "execution_count": 68,
   "metadata": {},
   "outputs": [],
   "source": [
    "j13['type_statement'] = np.where((j13['Account type'] == \"Revenue\") |(j13['Account type'] == \"Expenses\")\\\n",
    "                                 ,'income_statement','balance_statement')\n",
    "j14['type_statement'] = np.where((j14['Account type'] == \"Revenue\") |(j14['Account type'] == \"Expenses\")\\\n",
    "                                 ,'income_statement','balance_statement')"
   ]
  },
  {
   "cell_type": "code",
   "execution_count": 69,
   "metadata": {},
   "outputs": [],
   "source": [
    "j14.rename(columns={'Functional amount':'Functional_Amount_14'},inplace=True)\n",
    "j13.rename(columns={'Functional amount':'Functional_Amount_13'},inplace=True)"
   ]
  },
  {
   "cell_type": "code",
   "execution_count": 85,
   "metadata": {},
   "outputs": [],
   "source": [
    "j14_grouped = j14.groupby(['Source','Source group','type_statement','Account type','Account sub type','Account class','GL account name','GL account code'])\\\n",
    ".agg({'Functional_Amount_14':sum})\n",
    "\n",
    "j13_grouped = j13.groupby(['Source','Source group','type_statement','Account type','Account sub type','Account class','GL account name','GL account code'])\\\n",
    ".agg({'Functional_Amount_13':sum})"
   ]
  },
  {
   "cell_type": "code",
   "execution_count": 86,
   "metadata": {},
   "outputs": [],
   "source": [
    "j13_14_grouped = j13_grouped.join(j14_grouped).fillna({'Functional_Amount_13':0,'Functional_Amount_14':0})"
   ]
  },
  {
   "cell_type": "code",
   "execution_count": 87,
   "metadata": {},
   "outputs": [],
   "source": [
    "data = j13_14_grouped.round(2)"
   ]
  },
  {
   "cell_type": "code",
   "execution_count": 77,
   "metadata": {},
   "outputs": [],
   "source": [
    "data.to_csv('statements.csv')"
   ]
  },
  {
   "cell_type": "code",
   "execution_count": 89,
   "metadata": {},
   "outputs": [],
   "source": [
    "data.reset_index().to_excel('statements.xlsx',index=None, sheet_name='data')"
   ]
  },
  {
   "cell_type": "code",
   "execution_count": 92,
   "metadata": {},
   "outputs": [
    {
     "data": {
      "text/html": [
       "<div>\n",
       "<style scoped>\n",
       "    .dataframe tbody tr th:only-of-type {\n",
       "        vertical-align: middle;\n",
       "    }\n",
       "\n",
       "    .dataframe tbody tr th {\n",
       "        vertical-align: top;\n",
       "    }\n",
       "\n",
       "    .dataframe thead th {\n",
       "        text-align: right;\n",
       "    }\n",
       "</style>\n",
       "<table border=\"1\" class=\"dataframe\">\n",
       "  <thead>\n",
       "    <tr style=\"text-align: right;\">\n",
       "      <th></th>\n",
       "      <th></th>\n",
       "      <th></th>\n",
       "      <th></th>\n",
       "      <th></th>\n",
       "      <th></th>\n",
       "      <th></th>\n",
       "      <th></th>\n",
       "      <th>Functional_Amount_13</th>\n",
       "      <th>Functional_Amount_14</th>\n",
       "    </tr>\n",
       "    <tr>\n",
       "      <th>Source</th>\n",
       "      <th>Source group</th>\n",
       "      <th>type_statement</th>\n",
       "      <th>Account type</th>\n",
       "      <th>Account sub type</th>\n",
       "      <th>Account class</th>\n",
       "      <th>GL account name</th>\n",
       "      <th>GL account code</th>\n",
       "      <th></th>\n",
       "      <th></th>\n",
       "    </tr>\n",
       "  </thead>\n",
       "  <tbody>\n",
       "    <tr>\n",
       "      <th rowspan=\"10\" valign=\"top\">AA-Asset posting</th>\n",
       "      <th rowspan=\"10\" valign=\"top\">Fixed assets</th>\n",
       "      <th rowspan=\"10\" valign=\"top\">balance_statement</th>\n",
       "      <th rowspan=\"10\" valign=\"top\">Assets</th>\n",
       "      <th rowspan=\"10\" valign=\"top\">Non Current assets</th>\n",
       "      <th rowspan=\"9\" valign=\"top\">Intangible assets</th>\n",
       "      <th>Amortization of deferred charges</th>\n",
       "      <th>40106005</th>\n",
       "      <td>-0.00</td>\n",
       "      <td>0.00</td>\n",
       "    </tr>\n",
       "    <tr>\n",
       "      <th>Brands</th>\n",
       "      <th>40100100</th>\n",
       "      <td>64834.98</td>\n",
       "      <td>13846299.20</td>\n",
       "    </tr>\n",
       "    <tr>\n",
       "      <th>Deferred charges</th>\n",
       "      <th>40106000</th>\n",
       "      <td>90705.28</td>\n",
       "      <td>0.00</td>\n",
       "    </tr>\n",
       "    <tr>\n",
       "      <th>Intangible assets in progress</th>\n",
       "      <th>40107000</th>\n",
       "      <td>-220190.30</td>\n",
       "      <td>-23536592.46</td>\n",
       "    </tr>\n",
       "    <tr>\n",
       "      <th>Other intangible assets 2</th>\n",
       "      <th>40102107</th>\n",
       "      <td>-40744.82</td>\n",
       "      <td>0.00</td>\n",
       "    </tr>\n",
       "    <tr>\n",
       "      <th>Other intangible assets Amortization 2</th>\n",
       "      <th>40102207</th>\n",
       "      <td>40744.82</td>\n",
       "      <td>0.00</td>\n",
       "    </tr>\n",
       "    <tr>\n",
       "      <th>Patents</th>\n",
       "      <th>40100101</th>\n",
       "      <td>64650.04</td>\n",
       "      <td>9690293.26</td>\n",
       "    </tr>\n",
       "    <tr>\n",
       "      <th>Software</th>\n",
       "      <th>40102300</th>\n",
       "      <td>-88004.40</td>\n",
       "      <td>0.00</td>\n",
       "    </tr>\n",
       "    <tr>\n",
       "      <th>Sortware Amortization</th>\n",
       "      <th>40102305</th>\n",
       "      <td>88004.40</td>\n",
       "      <td>0.00</td>\n",
       "    </tr>\n",
       "    <tr>\n",
       "      <th>Tangible assets</th>\n",
       "      <th>Accumulated depreciation equipment</th>\n",
       "      <th>40008005</th>\n",
       "      <td>1322.12</td>\n",
       "      <td>12777.16</td>\n",
       "    </tr>\n",
       "  </tbody>\n",
       "</table>\n",
       "</div>"
      ],
      "text/plain": [
       "                                                                                                                                                          Functional_Amount_13  \\\n",
       "Source           Source group type_statement    Account type Account sub type   Account class     GL account name                        GL account code                         \n",
       "AA-Asset posting Fixed assets balance_statement Assets       Non Current assets Intangible assets Amortization of deferred charges       40106005                        -0.00   \n",
       "                                                                                                  Brands                                 40100100                     64834.98   \n",
       "                                                                                                  Deferred charges                       40106000                     90705.28   \n",
       "                                                                                                  Intangible assets in progress          40107000                   -220190.30   \n",
       "                                                                                                  Other intangible assets 2              40102107                    -40744.82   \n",
       "                                                                                                  Other intangible assets Amortization 2 40102207                     40744.82   \n",
       "                                                                                                  Patents                                40100101                     64650.04   \n",
       "                                                                                                  Software                               40102300                    -88004.40   \n",
       "                                                                                                  Sortware Amortization                  40102305                     88004.40   \n",
       "                                                                                Tangible assets   Accumulated depreciation equipment     40008005                      1322.12   \n",
       "\n",
       "                                                                                                                                                          Functional_Amount_14  \n",
       "Source           Source group type_statement    Account type Account sub type   Account class     GL account name                        GL account code                        \n",
       "AA-Asset posting Fixed assets balance_statement Assets       Non Current assets Intangible assets Amortization of deferred charges       40106005                         0.00  \n",
       "                                                                                                  Brands                                 40100100                  13846299.20  \n",
       "                                                                                                  Deferred charges                       40106000                         0.00  \n",
       "                                                                                                  Intangible assets in progress          40107000                 -23536592.46  \n",
       "                                                                                                  Other intangible assets 2              40102107                         0.00  \n",
       "                                                                                                  Other intangible assets Amortization 2 40102207                         0.00  \n",
       "                                                                                                  Patents                                40100101                   9690293.26  \n",
       "                                                                                                  Software                               40102300                         0.00  \n",
       "                                                                                                  Sortware Amortization                  40102305                         0.00  \n",
       "                                                                                Tangible assets   Accumulated depreciation equipment     40008005                     12777.16  "
      ]
     },
     "execution_count": 92,
     "metadata": {},
     "output_type": "execute_result"
    }
   ],
   "source": [
    "data.head(10)"
   ]
  },
  {
   "cell_type": "markdown",
   "metadata": {},
   "source": [
    "### Key Indicators - Ertragslage"
   ]
  },
  {
   "cell_type": "code",
   "execution_count": 113,
   "metadata": {},
   "outputs": [],
   "source": [
    "data.reset_index(inplace=True)"
   ]
  },
  {
   "cell_type": "code",
   "execution_count": 114,
   "metadata": {},
   "outputs": [
    {
     "data": {
      "text/html": [
       "<div>\n",
       "<style scoped>\n",
       "    .dataframe tbody tr th:only-of-type {\n",
       "        vertical-align: middle;\n",
       "    }\n",
       "\n",
       "    .dataframe tbody tr th {\n",
       "        vertical-align: top;\n",
       "    }\n",
       "\n",
       "    .dataframe thead th {\n",
       "        text-align: right;\n",
       "    }\n",
       "</style>\n",
       "<table border=\"1\" class=\"dataframe\">\n",
       "  <thead>\n",
       "    <tr style=\"text-align: right;\">\n",
       "      <th></th>\n",
       "      <th>Source</th>\n",
       "      <th>Source group</th>\n",
       "      <th>type_statement</th>\n",
       "      <th>Account type</th>\n",
       "      <th>Account sub type</th>\n",
       "      <th>Account class</th>\n",
       "      <th>GL account name</th>\n",
       "      <th>GL account code</th>\n",
       "      <th>Functional_Amount_13</th>\n",
       "      <th>Functional_Amount_14</th>\n",
       "    </tr>\n",
       "  </thead>\n",
       "  <tbody>\n",
       "    <tr>\n",
       "      <th>0</th>\n",
       "      <td>AA-Asset posting</td>\n",
       "      <td>Fixed assets</td>\n",
       "      <td>balance_statement</td>\n",
       "      <td>Assets</td>\n",
       "      <td>Non Current assets</td>\n",
       "      <td>Intangible assets</td>\n",
       "      <td>Amortization of deferred charges</td>\n",
       "      <td>40106005</td>\n",
       "      <td>-0.00</td>\n",
       "      <td>0.00</td>\n",
       "    </tr>\n",
       "    <tr>\n",
       "      <th>1</th>\n",
       "      <td>AA-Asset posting</td>\n",
       "      <td>Fixed assets</td>\n",
       "      <td>balance_statement</td>\n",
       "      <td>Assets</td>\n",
       "      <td>Non Current assets</td>\n",
       "      <td>Intangible assets</td>\n",
       "      <td>Brands</td>\n",
       "      <td>40100100</td>\n",
       "      <td>64834.98</td>\n",
       "      <td>13846299.20</td>\n",
       "    </tr>\n",
       "    <tr>\n",
       "      <th>2</th>\n",
       "      <td>AA-Asset posting</td>\n",
       "      <td>Fixed assets</td>\n",
       "      <td>balance_statement</td>\n",
       "      <td>Assets</td>\n",
       "      <td>Non Current assets</td>\n",
       "      <td>Intangible assets</td>\n",
       "      <td>Deferred charges</td>\n",
       "      <td>40106000</td>\n",
       "      <td>90705.28</td>\n",
       "      <td>0.00</td>\n",
       "    </tr>\n",
       "    <tr>\n",
       "      <th>3</th>\n",
       "      <td>AA-Asset posting</td>\n",
       "      <td>Fixed assets</td>\n",
       "      <td>balance_statement</td>\n",
       "      <td>Assets</td>\n",
       "      <td>Non Current assets</td>\n",
       "      <td>Intangible assets</td>\n",
       "      <td>Intangible assets in progress</td>\n",
       "      <td>40107000</td>\n",
       "      <td>-220190.30</td>\n",
       "      <td>-23536592.46</td>\n",
       "    </tr>\n",
       "    <tr>\n",
       "      <th>4</th>\n",
       "      <td>AA-Asset posting</td>\n",
       "      <td>Fixed assets</td>\n",
       "      <td>balance_statement</td>\n",
       "      <td>Assets</td>\n",
       "      <td>Non Current assets</td>\n",
       "      <td>Intangible assets</td>\n",
       "      <td>Other intangible assets 2</td>\n",
       "      <td>40102107</td>\n",
       "      <td>-40744.82</td>\n",
       "      <td>0.00</td>\n",
       "    </tr>\n",
       "  </tbody>\n",
       "</table>\n",
       "</div>"
      ],
      "text/plain": [
       "             Source  Source group     type_statement Account type  \\\n",
       "0  AA-Asset posting  Fixed assets  balance_statement       Assets   \n",
       "1  AA-Asset posting  Fixed assets  balance_statement       Assets   \n",
       "2  AA-Asset posting  Fixed assets  balance_statement       Assets   \n",
       "3  AA-Asset posting  Fixed assets  balance_statement       Assets   \n",
       "4  AA-Asset posting  Fixed assets  balance_statement       Assets   \n",
       "\n",
       "     Account sub type      Account class                   GL account name  \\\n",
       "0  Non Current assets  Intangible assets  Amortization of deferred charges   \n",
       "1  Non Current assets  Intangible assets                            Brands   \n",
       "2  Non Current assets  Intangible assets                  Deferred charges   \n",
       "3  Non Current assets  Intangible assets     Intangible assets in progress   \n",
       "4  Non Current assets  Intangible assets         Other intangible assets 2   \n",
       "\n",
       "   GL account code  Functional_Amount_13  Functional_Amount_14  \n",
       "0         40106005                 -0.00                  0.00  \n",
       "1         40100100              64834.98           13846299.20  \n",
       "2         40106000              90705.28                  0.00  \n",
       "3         40107000            -220190.30          -23536592.46  \n",
       "4         40102107             -40744.82                  0.00  "
      ]
     },
     "execution_count": 114,
     "metadata": {},
     "output_type": "execute_result"
    }
   ],
   "source": [
    "data.head()"
   ]
  },
  {
   "cell_type": "code",
   "execution_count": 158,
   "metadata": {},
   "outputs": [
    {
     "data": {
      "text/html": [
       "<div>\n",
       "<style scoped>\n",
       "    .dataframe tbody tr th:only-of-type {\n",
       "        vertical-align: middle;\n",
       "    }\n",
       "\n",
       "    .dataframe tbody tr th {\n",
       "        vertical-align: top;\n",
       "    }\n",
       "\n",
       "    .dataframe thead th {\n",
       "        text-align: right;\n",
       "    }\n",
       "</style>\n",
       "<table border=\"1\" class=\"dataframe\">\n",
       "  <thead>\n",
       "    <tr style=\"text-align: right;\">\n",
       "      <th></th>\n",
       "      <th>GL account code</th>\n",
       "      <th>Account type</th>\n",
       "      <th>Account class</th>\n",
       "      <th>Functional opening balance</th>\n",
       "      <th>Functional closing balance</th>\n",
       "      <th>Business unit code</th>\n",
       "      <th>Business unit</th>\n",
       "      <th>Trial balance start date</th>\n",
       "      <th>Trial balance end date</th>\n",
       "      <th>Fiscal year</th>\n",
       "      <th>Fiscal period</th>\n",
       "      <th>Functional currency code</th>\n",
       "    </tr>\n",
       "  </thead>\n",
       "  <tbody>\n",
       "    <tr>\n",
       "      <th>0</th>\n",
       "      <td>20000050</td>\n",
       "      <td>Assets</td>\n",
       "      <td>Receivables</td>\n",
       "      <td>5416.00</td>\n",
       "      <td>114226.00</td>\n",
       "      <td>1</td>\n",
       "      <td>ABC Company</td>\n",
       "      <td>2013-01-01</td>\n",
       "      <td>2013-12-31</td>\n",
       "      <td>2013</td>\n",
       "      <td>13</td>\n",
       "      <td>EUR</td>\n",
       "    </tr>\n",
       "    <tr>\n",
       "      <th>1</th>\n",
       "      <td>20000051</td>\n",
       "      <td>Assets</td>\n",
       "      <td>Receivables</td>\n",
       "      <td>0.00</td>\n",
       "      <td>0.00</td>\n",
       "      <td>1</td>\n",
       "      <td>ABC Company</td>\n",
       "      <td>2013-01-01</td>\n",
       "      <td>2013-12-31</td>\n",
       "      <td>2013</td>\n",
       "      <td>13</td>\n",
       "      <td>EUR</td>\n",
       "    </tr>\n",
       "    <tr>\n",
       "      <th>2</th>\n",
       "      <td>20000000</td>\n",
       "      <td>Assets</td>\n",
       "      <td>Receivables</td>\n",
       "      <td>58638227.08</td>\n",
       "      <td>57451732.18</td>\n",
       "      <td>1</td>\n",
       "      <td>ABC Company</td>\n",
       "      <td>2013-01-01</td>\n",
       "      <td>2013-12-31</td>\n",
       "      <td>2013</td>\n",
       "      <td>13</td>\n",
       "      <td>EUR</td>\n",
       "    </tr>\n",
       "    <tr>\n",
       "      <th>3</th>\n",
       "      <td>20000021</td>\n",
       "      <td>Assets</td>\n",
       "      <td>Receivables</td>\n",
       "      <td>0.00</td>\n",
       "      <td>2904.00</td>\n",
       "      <td>1</td>\n",
       "      <td>ABC Company</td>\n",
       "      <td>2013-01-01</td>\n",
       "      <td>2013-12-31</td>\n",
       "      <td>2013</td>\n",
       "      <td>13</td>\n",
       "      <td>EUR</td>\n",
       "    </tr>\n",
       "    <tr>\n",
       "      <th>4</th>\n",
       "      <td>20000002</td>\n",
       "      <td>Assets</td>\n",
       "      <td>Receivables</td>\n",
       "      <td>740147.12</td>\n",
       "      <td>525066.20</td>\n",
       "      <td>1</td>\n",
       "      <td>ABC Company</td>\n",
       "      <td>2013-01-01</td>\n",
       "      <td>2013-12-31</td>\n",
       "      <td>2013</td>\n",
       "      <td>13</td>\n",
       "      <td>EUR</td>\n",
       "    </tr>\n",
       "  </tbody>\n",
       "</table>\n",
       "</div>"
      ],
      "text/plain": [
       "   GL account code Account type Account class  Functional opening balance  \\\n",
       "0         20000050       Assets   Receivables                     5416.00   \n",
       "1         20000051       Assets   Receivables                        0.00   \n",
       "2         20000000       Assets   Receivables                 58638227.08   \n",
       "3         20000021       Assets   Receivables                        0.00   \n",
       "4         20000002       Assets   Receivables                   740147.12   \n",
       "\n",
       "   Functional closing balance  Business unit code Business unit  \\\n",
       "0                   114226.00                   1   ABC Company   \n",
       "1                        0.00                   1   ABC Company   \n",
       "2                 57451732.18                   1   ABC Company   \n",
       "3                     2904.00                   1   ABC Company   \n",
       "4                   525066.20                   1   ABC Company   \n",
       "\n",
       "  Trial balance start date Trial balance end date  Fiscal year  Fiscal period  \\\n",
       "0               2013-01-01             2013-12-31         2013             13   \n",
       "1               2013-01-01             2013-12-31         2013             13   \n",
       "2               2013-01-01             2013-12-31         2013             13   \n",
       "3               2013-01-01             2013-12-31         2013             13   \n",
       "4               2013-01-01             2013-12-31         2013             13   \n",
       "\n",
       "  Functional currency code  \n",
       "0                      EUR  \n",
       "1                      EUR  \n",
       "2                      EUR  \n",
       "3                      EUR  \n",
       "4                      EUR  "
      ]
     },
     "execution_count": 158,
     "metadata": {},
     "output_type": "execute_result"
    }
   ],
   "source": [
    "tb13.head()"
   ]
  },
  {
   "cell_type": "markdown",
   "metadata": {},
   "source": [
    "#### Sales / Umsatzerlöse:"
   ]
  },
  {
   "cell_type": "code",
   "execution_count": 127,
   "metadata": {},
   "outputs": [],
   "source": [
    "# Verkaufserlöse:\n",
    "sales13 = data[data['Account sub type']=='Sales']['Functional_Amount_13'].sum()\n",
    "sales14 = data[data['Account sub type']=='Sales']['Functional_Amount_14'].sum()"
   ]
  },
  {
   "cell_type": "code",
   "execution_count": 333,
   "metadata": {},
   "outputs": [
    {
     "name": "stdout",
     "output_type": "stream",
     "text": [
      "Sales13: 469,607,743.16 Sales14: 469,371,937.34\n"
     ]
    }
   ],
   "source": [
    "print(\"Sales13: \"\"{:,.2f}\".format(sales13*-1), \"Sales14: \"\"{:,.2f}\".format(sales14*-1))"
   ]
  },
  {
   "cell_type": "markdown",
   "metadata": {},
   "source": [
    "#### EBIT - Earnings before Interest and Taxes:"
   ]
  },
  {
   "cell_type": "code",
   "execution_count": 143,
   "metadata": {},
   "outputs": [],
   "source": [
    "#EBIT - Earnings before interest and taxes\n",
    "ebit13 = data[(data['type_statement']=='income_statement') & (data['Account sub type']!='Taxes') &\\\n",
    "     (data['Account sub type']!='Financial charges')]['Functional_Amount_13'].sum()\n",
    "ebit14 = data[(data['type_statement']=='income_statement') & (data['Account sub type']!='Taxes') &\\\n",
    "     (data['Account sub type']!='Financial charges')]['Functional_Amount_14'].sum()"
   ]
  },
  {
   "cell_type": "code",
   "execution_count": 332,
   "metadata": {
    "scrolled": true
   },
   "outputs": [
    {
     "name": "stdout",
     "output_type": "stream",
     "text": [
      "EBIT13: 62,881,181.60 EBIT14: 98,519,430.06\n"
     ]
    }
   ],
   "source": [
    "print(\"EBIT13: \"\"{:,.2f}\".format(ebit13*-1), \"EBIT14: \"\"{:,.2f}\".format(ebit14*-1))"
   ]
  },
  {
   "cell_type": "code",
   "execution_count": 147,
   "metadata": {},
   "outputs": [],
   "source": [
    "def return_indicator(gewinn,X):\n",
    "    ratio = ( gewinn / X ) * 100\n",
    "    return ratio"
   ]
  },
  {
   "cell_type": "markdown",
   "metadata": {},
   "source": [
    "#### Return on Sales / Umsatzrendite:"
   ]
  },
  {
   "cell_type": "code",
   "execution_count": 149,
   "metadata": {
    "collapsed": true
   },
   "outputs": [
    {
     "data": {
      "text/plain": [
       "(13.390150080761288, 20.989629379703487)"
      ]
     },
     "execution_count": 149,
     "metadata": {},
     "output_type": "execute_result"
    }
   ],
   "source": [
    "#Return on Sales (ROS)\n",
    "return_indicator(ebit13,sales13), return_indicator(ebit14,sales14)"
   ]
  },
  {
   "cell_type": "code",
   "execution_count": 338,
   "metadata": {},
   "outputs": [
    {
     "name": "stdout",
     "output_type": "stream",
     "text": [
      "ROS13: 13.39% ROS14: 20.99%\n"
     ]
    }
   ],
   "source": [
    "print(\"ROS13: \"\"{:.2f}%\".format(return_indicator(ebit13,sales13)),\\\n",
    "     \"ROS14: \"\"{:.2f}%\".format(return_indicator(ebit14,sales14)))"
   ]
  },
  {
   "cell_type": "code",
   "execution_count": 192,
   "metadata": {},
   "outputs": [],
   "source": [
    "#Income of total balance before taxes\n",
    "income14 = tb14[((tb14['Account type']=='Expenses') & (tb14['Account class']!='Current taxes '))\\\n",
    "    | (tb14['Account type']=='Revenue')]['Functional closing balance'].sum()\n",
    "\n",
    "income13 = tb13[((tb13['Account type']=='Expenses') & (tb13['Account class']!='Current taxes '))\\\n",
    "    | (tb13['Account type']=='Revenue')]['Functional closing balance'].sum()"
   ]
  },
  {
   "cell_type": "markdown",
   "metadata": {},
   "source": [
    "#### Return on Equity"
   ]
  },
  {
   "cell_type": "code",
   "execution_count": 201,
   "metadata": {},
   "outputs": [],
   "source": [
    "# Eigenkaptial\n",
    "ek14 = tb14[(tb14['Account type']=='Equity')]['Functional closing balance'].sum() + income14\n",
    "ek13 = tb13[(tb13['Account type']=='Equity')]['Functional closing balance'].sum() + income13"
   ]
  },
  {
   "cell_type": "code",
   "execution_count": 340,
   "metadata": {},
   "outputs": [
    {
     "name": "stdout",
     "output_type": "stream",
     "text": [
      "Eigenkapital\n",
      "EK13: 250,237,910.98 EK14: 220,346,575.68\n"
     ]
    }
   ],
   "source": [
    "print('Eigenkapital')\n",
    "print(\"EK13: \"\"{:,.2f}\".format(ek13*-1), \"EK14: \"\"{:,.2f}\".format(ek14*-1))"
   ]
  },
  {
   "cell_type": "code",
   "execution_count": 352,
   "metadata": {},
   "outputs": [
    {
     "name": "stdout",
     "output_type": "stream",
     "text": [
      "Return on Equity\n",
      "ROE13: 24.36% ROE14: 29.58%\n"
     ]
    }
   ],
   "source": [
    "#Return on equity (ROE):\n",
    "print('Return on Equity')\n",
    "print(\"ROE13: \"\"{:,.2f}%\".format(return_indicator(income13,ek13)), \\\n",
    "      \"ROE14: \"\"{:,.2f}%\".format(return_indicator(income14,ek14)))\n"
   ]
  },
  {
   "cell_type": "markdown",
   "metadata": {},
   "source": [
    "#### Return on Investment (ROI):"
   ]
  },
  {
   "cell_type": "code",
   "execution_count": 209,
   "metadata": {},
   "outputs": [],
   "source": [
    "# Gesamtkapital:\n",
    "gk14 = tb14[tb14['Account type']=='Assets']['Functional closing balance'].sum()\n",
    "gk13 = tb13[tb13['Account type']=='Assets']['Functional closing balance'].sum()"
   ]
  },
  {
   "cell_type": "code",
   "execution_count": 351,
   "metadata": {},
   "outputs": [
    {
     "name": "stdout",
     "output_type": "stream",
     "text": [
      "Gesamtkaptial:\n",
      "GK13: 370,991,864.70 GK14: 336,097,347.74\n",
      "\n",
      "EBIT:\n",
      "EBIT13: 62,881,181.60 EBIT14: 98,519,430.06\n"
     ]
    }
   ],
   "source": [
    "print('Gesamtkaptial:')\n",
    "print(\"GK13: \"\"{:,.2f}\".format(gk13), \"GK14: \"\"{:,.2f}\".format(gk14))\n",
    "print('')\n",
    "print('EBIT:')\n",
    "print(\"EBIT13: \"\"{:,.2f}\".format(ebit13*-1), \"EBIT14: \"\"{:,.2f}\".format(ebit14*-1))"
   ]
  },
  {
   "cell_type": "code",
   "execution_count": 212,
   "metadata": {
    "collapsed": true
   },
   "outputs": [
    {
     "data": {
      "text/plain": [
       "(16.949477221245385, 29.312766293000685)"
      ]
     },
     "execution_count": 212,
     "metadata": {},
     "output_type": "execute_result"
    }
   ],
   "source": [
    "#Return on Investment(ROI):\n",
    "return_indicator(ebit13*-1,gk13), return_indicator(ebit14*-1,gk14)"
   ]
  },
  {
   "cell_type": "code",
   "execution_count": 353,
   "metadata": {},
   "outputs": [
    {
     "name": "stdout",
     "output_type": "stream",
     "text": [
      "Return on Investment\n",
      "ROI13: 16.95% ROI14: 29.31%\n"
     ]
    }
   ],
   "source": [
    "print('Return on Investment')\n",
    "print(\"ROI13: \"\"{:,.2f}%\".format(return_indicator(ebit13*-1,gk13)), \\\n",
    "      \"ROI14: \"\"{:,.2f}%\".format(return_indicator(ebit14*-1,gk14)))"
   ]
  },
  {
   "cell_type": "markdown",
   "metadata": {},
   "source": [
    "### Key Indicators - Vermögens und Finanzlage"
   ]
  },
  {
   "cell_type": "code",
   "execution_count": 229,
   "metadata": {},
   "outputs": [],
   "source": [
    "# FK Langfristig\n",
    "\n",
    "fk_lang13 = tb13[tb13['Account sub type']=='Non current liabilities']['Functional closing balance'].sum()\n",
    "fk_lang14 = tb14[tb14['Account sub type']=='Non current liabilities']['Functional closing balance'].sum()"
   ]
  },
  {
   "cell_type": "code",
   "execution_count": 230,
   "metadata": {},
   "outputs": [
    {
     "data": {
      "text/plain": [
       "(-10042940.819999998, -11228364.2)"
      ]
     },
     "execution_count": 230,
     "metadata": {},
     "output_type": "execute_result"
    }
   ],
   "source": [
    "fk_lang13,fk_lang14"
   ]
  },
  {
   "cell_type": "code",
   "execution_count": 302,
   "metadata": {},
   "outputs": [],
   "source": [
    "# FK Kurzfristig\n",
    "\n",
    "fk_short13 = tb13[tb13['Account sub type']=='Current liabilities']['Functional closing balance'].sum()\n",
    "fk_short14 = tb14[tb14['Account sub type']=='Current liabilities']['Functional closing balance'].sum()"
   ]
  },
  {
   "cell_type": "code",
   "execution_count": 303,
   "metadata": {},
   "outputs": [
    {
     "data": {
      "text/plain": [
       "(-129773570.9, -126009309.86)"
      ]
     },
     "execution_count": 303,
     "metadata": {},
     "output_type": "execute_result"
    }
   ],
   "source": [
    "fk_short13,fk_short14"
   ]
  },
  {
   "cell_type": "markdown",
   "metadata": {},
   "source": [
    "#### Nettoverschuldung / Net-debt:"
   ]
  },
  {
   "cell_type": "code",
   "execution_count": 301,
   "metadata": {},
   "outputs": [],
   "source": [
    "# Nettoverschuldung (Net-Debt)\n",
    "# kurzfristige VBDL abzüglich Cashbestand\n",
    "\n",
    "cash13 = tb13[tb13['Account class'] == 'Cash and cash equivalents']['Functional closing balance'].sum()\n",
    "cash14 = tb14[tb14['Account class'] == 'Cash and cash equivalents']['Functional closing balance'].sum()"
   ]
  },
  {
   "cell_type": "code",
   "execution_count": 306,
   "metadata": {},
   "outputs": [],
   "source": [
    "net_debt13 = fk_short13*-1 - cash13\n",
    "net_debt14 = fk_short14*-1 - cash14"
   ]
  },
  {
   "cell_type": "code",
   "execution_count": 359,
   "metadata": {},
   "outputs": [
    {
     "name": "stdout",
     "output_type": "stream",
     "text": [
      "kurzfristige Verbindlichkeiten:\n",
      "FKshort13: 129,773,570.90 FKshort14: 126,009,309.86\n",
      "\n",
      "Cash-Bestand:\n",
      "Cash13: 80,477,704.22 Cash14: 35,182,375.26\n",
      "\n",
      "Nettoverschuldung:\n",
      "Net-Debt13: 49,295,866.68 Net-Debt14: 90,826,934.60\n"
     ]
    }
   ],
   "source": [
    "print('kurzfristige Verbindlichkeiten:')\n",
    "print(\"FKshort13: \"\"{:,.2f}\".format(fk_short13*-1), \"FKshort14: \"\"{:,.2f}\".format(fk_short14*-1))\n",
    "print('')\n",
    "print('Cash-Bestand:')\n",
    "print(\"Cash13: \"\"{:,.2f}\".format(cash13), \"Cash14: \"\"{:,.2f}\".format(cash14))\n",
    "print('')\n",
    "print('Nettoverschuldung:')\n",
    "print(\"Net-Debt13: \"\"{:,.2f}\".format(net_debt13), \"Net-Debt14: \"\"{:,.2f}\".format(net_debt14))"
   ]
  },
  {
   "cell_type": "code",
   "execution_count": 307,
   "metadata": {},
   "outputs": [
    {
     "data": {
      "text/plain": [
       "(49295866.68000001, 90826934.6)"
      ]
     },
     "execution_count": 307,
     "metadata": {},
     "output_type": "execute_result"
    }
   ],
   "source": [
    "net_debt13,net_debt14"
   ]
  },
  {
   "cell_type": "markdown",
   "metadata": {},
   "source": [
    "#### Nettoverschuldungsgrad / Gearing:"
   ]
  },
  {
   "cell_type": "code",
   "execution_count": 310,
   "metadata": {},
   "outputs": [],
   "source": [
    "# Gearing / ratio-Net-debt:\n",
    "\n",
    "gear13 = return_indicator(net_debt13,ek13*-1)\n",
    "gear14 = return_indicator(net_debt14,ek14*-1)"
   ]
  },
  {
   "cell_type": "code",
   "execution_count": 311,
   "metadata": {
    "collapsed": true
   },
   "outputs": [
    {
     "data": {
      "text/plain": [
       "(19.69959966774974, 41.220034538637016)"
      ]
     },
     "execution_count": 311,
     "metadata": {},
     "output_type": "execute_result"
    }
   ],
   "source": [
    "gear13,gear14"
   ]
  },
  {
   "cell_type": "code",
   "execution_count": 366,
   "metadata": {},
   "outputs": [
    {
     "name": "stdout",
     "output_type": "stream",
     "text": [
      "EK13: 250,237,910.98 EK14: 220,346,575.68\n",
      "\n",
      "Net-Debt13: 49,295,866.68 Net-Debt14: 90,826,934.60\n",
      "\n",
      "Gearing13: 19.70% Gearing14: 41.22%\n"
     ]
    }
   ],
   "source": [
    "print(\"EK13: \"\"{:,.2f}\".format(ek13*-1), \"EK14: \"\"{:,.2f}\".format(ek14*-1))\n",
    "print('')\n",
    "print(\"Net-Debt13: \"\"{:,.2f}\".format(net_debt13), \"Net-Debt14: \"\"{:,.2f}\".format(net_debt14))\n",
    "print('')\n",
    "print(\"Gearing13: \"\"{:,.2f}%\".format(gear13), \"Gearing14: \"\"{:,.2f}%\".format(gear14))"
   ]
  },
  {
   "cell_type": "code",
   "execution_count": 238,
   "metadata": {},
   "outputs": [
    {
     "data": {
      "text/plain": [
       "(-250237910.9800002, -220346575.68000013, 370991864.7, 336097347.74)"
      ]
     },
     "execution_count": 238,
     "metadata": {},
     "output_type": "execute_result"
    }
   ],
   "source": [
    "# Verschuldungsgrad (debt-Ratio):\n",
    "# Fremdkaptial zu Eigenkapital\n",
    "ek13,ek14,gk13,gk14"
   ]
  },
  {
   "cell_type": "code",
   "execution_count": 240,
   "metadata": {},
   "outputs": [],
   "source": [
    "debt_ratio13 = return_indicator((gk13-ek13*-1),ek13*-1)\n",
    "debt_ratio14 = return_indicator((gk14-ek14*-1),ek14*-1)"
   ]
  },
  {
   "cell_type": "code",
   "execution_count": 241,
   "metadata": {},
   "outputs": [
    {
     "data": {
      "text/plain": [
       "(48.25565928323739, 52.53123253800857)"
      ]
     },
     "execution_count": 241,
     "metadata": {},
     "output_type": "execute_result"
    }
   ],
   "source": [
    "debt_ratio13,debt_ratio14"
   ]
  },
  {
   "cell_type": "markdown",
   "metadata": {},
   "source": [
    "#### Kapitalquoten:"
   ]
  },
  {
   "cell_type": "markdown",
   "metadata": {},
   "source": [
    "#### Fremdkaptialquote"
   ]
  },
  {
   "cell_type": "code",
   "execution_count": 242,
   "metadata": {},
   "outputs": [],
   "source": [
    "#Fremdkapitalquote\n",
    "# FK zu GK\n",
    "fk_ratio13 = return_indicator((gk13-ek13*-1),gk13)\n",
    "fk_ratio14 = return_indicator((gk14-ek14*-1),gk14)"
   ]
  },
  {
   "cell_type": "code",
   "execution_count": 453,
   "metadata": {},
   "outputs": [
    {
     "name": "stdout",
     "output_type": "stream",
     "text": [
      "FK-Quote13: 32.55% FK-Quote14: 34.44%\n"
     ]
    }
   ],
   "source": [
    "\n",
    "print(\"FK-Quote13: \"\"{:,.2f}%\".format(fk_ratio13), \"FK-Quote14: \"\"{:,.2f}%\".format(fk_ratio14))"
   ]
  },
  {
   "cell_type": "markdown",
   "metadata": {},
   "source": [
    "#### Eigenkaptialquote"
   ]
  },
  {
   "cell_type": "code",
   "execution_count": 245,
   "metadata": {},
   "outputs": [],
   "source": [
    "#Eigenkapitalquote\n",
    "# EK zu GK\n",
    "ek_ratio13 = return_indicator(ek13*-1,gk13)\n",
    "ek_ratio14 = return_indicator(ek14*-1,gk14)"
   ]
  },
  {
   "cell_type": "code",
   "execution_count": 371,
   "metadata": {
    "scrolled": true
   },
   "outputs": [
    {
     "name": "stdout",
     "output_type": "stream",
     "text": [
      "EK-Quote13: 67.45% EK-Quote14: 65.56%\n"
     ]
    }
   ],
   "source": [
    "print(\"EK-Quote13: \"\"{:,.2f}%\".format(ek_ratio13), \"EK-Quote14: \"\"{:,.2f}%\".format(ek_ratio14))"
   ]
  },
  {
   "cell_type": "markdown",
   "metadata": {},
   "source": [
    "#### Anlagendeckungsgrad"
   ]
  },
  {
   "cell_type": "code",
   "execution_count": 252,
   "metadata": {},
   "outputs": [],
   "source": [
    "#Anlagendeckungsgrad1\n",
    "#Eigenkapital zu Anlagevermögen\n",
    "\n",
    "av13 = tb13[tb13['Account sub type']==\"Non Current assets\"]['Functional closing balance'].sum() # AV 13\n",
    "av14 = tb14[tb14['Account sub type']==\"Non Current assets\"]['Functional closing balance'].sum() # AV 14\n",
    "anlgraad13 = return_indicator(ek13*-1,av13)\n",
    "anlgraad14 = return_indicator(ek14*-1,av14)"
   ]
  },
  {
   "cell_type": "code",
   "execution_count": 457,
   "metadata": {},
   "outputs": [
    {
     "name": "stdout",
     "output_type": "stream",
     "text": [
      "EK13: 250,237,910.98 EK14: 220,346,575.68\n",
      "AV13: 158,122,213.42 AV14: 185,387,014.46\n",
      "\n",
      "Anlagendeckungsgrad%:\n",
      "AnlagenGrad13: 158.26% AnlagenGrad14: 118.86%\n"
     ]
    }
   ],
   "source": [
    "print(\"EK13: \"\"{:,.2f}\".format(ek13*-1), \"EK14: \"\"{:,.2f}\".format(ek14*-1))\n",
    "print(\"AV13: \"\"{:,.2f}\".format(av13), \"AV14: \"\"{:,.2f}\".format(av14))\n",
    "print('')\n",
    "print('Anlagendeckungsgrad%:')\n",
    "print(\"AnlagenGrad13: \"\"{:,.2f}%\".format(anlgraad13), \"AnlagenGrad14: \"\"{:,.2f}%\".format(anlgraad14))"
   ]
  },
  {
   "cell_type": "markdown",
   "metadata": {},
   "source": [
    "#### Anlagenintensität"
   ]
  },
  {
   "cell_type": "code",
   "execution_count": 254,
   "metadata": {},
   "outputs": [],
   "source": [
    "#Anlagenintensität\n",
    "#Anlagevermögen zu Gesamtvermögen\n",
    "avinten13 = return_indicator(av13,gk13)\n",
    "avinten14 = return_indicator(av14,gk14)"
   ]
  },
  {
   "cell_type": "code",
   "execution_count": 459,
   "metadata": {},
   "outputs": [
    {
     "name": "stdout",
     "output_type": "stream",
     "text": [
      "GK13: 370,991,864.70 GK14: 336,097,347.74\n",
      "AV13: 158,122,213.42 AV14: 185,387,014.46\n",
      "\n",
      "Anlagenintensität%:\n",
      "AnlagenIntensität13: 42.62% AnlagenIntensität14: 55.16%\n"
     ]
    }
   ],
   "source": [
    "print(\"GK13: \"\"{:,.2f}\".format(gk13), \"GK14: \"\"{:,.2f}\".format(gk14))\n",
    "print(\"AV13: \"\"{:,.2f}\".format(av13), \"AV14: \"\"{:,.2f}\".format(av14))\n",
    "print('')\n",
    "print('Anlagenintensität%:')\n",
    "print(\"AnlagenIntensität13: \"\"{:,.2f}%\".format(avinten13), \"AnlagenIntensität14: \"\"{:,.2f}%\".format(avinten14))"
   ]
  },
  {
   "cell_type": "markdown",
   "metadata": {},
   "source": [
    "#### Umlaufvermögensintensität"
   ]
  },
  {
   "cell_type": "code",
   "execution_count": 256,
   "metadata": {},
   "outputs": [],
   "source": [
    "#Umlagevermögenintensität\n",
    "#Umlaufvermögen zu Gesamtvermögen\n",
    "uvinten13 = return_indicator((gk13 - av13),gk13)\n",
    "uvinten14 = return_indicator((gk14 - av14),gk14)"
   ]
  },
  {
   "cell_type": "code",
   "execution_count": 462,
   "metadata": {},
   "outputs": [
    {
     "name": "stdout",
     "output_type": "stream",
     "text": [
      "Umlauf Intensität:\n",
      "UVIntensität13: 57.38% UVIntensität14: 44.84%\n"
     ]
    }
   ],
   "source": [
    "print('Umlauf Intensität:')\n",
    "print(\"UVIntensität13: \"\"{:,.2f}%\".format(uvinten13), \"UVIntensität14: \"\"{:,.2f}%\".format(uvinten14))"
   ]
  },
  {
   "cell_type": "markdown",
   "metadata": {},
   "source": [
    "##### Vorratsintensität"
   ]
  },
  {
   "cell_type": "code",
   "execution_count": 262,
   "metadata": {},
   "outputs": [],
   "source": [
    "#Vorratsintensität\n",
    "#Vorräte zu Gesamtvermögen\n",
    "\n",
    "invent13 = tb13[tb13['Account class'] == 'Inventory']['Functional closing balance'].sum()\n",
    "invent14 = tb14[tb14['Account class'] == 'Inventory']['Functional closing balance'].sum()\n",
    "\n",
    "vor13 = return_indicator(invent13,gk13)\n",
    "vor14 = return_indicator(invent14,gk14)"
   ]
  },
  {
   "cell_type": "code",
   "execution_count": 461,
   "metadata": {
    "scrolled": true
   },
   "outputs": [
    {
     "name": "stdout",
     "output_type": "stream",
     "text": [
      "VorratsIntensität13: 8.76% VorratsIntensität14: 9.49%\n"
     ]
    }
   ],
   "source": [
    "print(\"VorratsIntensität13: \"\"{:,.2f}%\".format(vor13), \"VorratsIntensität14: \"\"{:,.2f}%\".format(vor14))"
   ]
  },
  {
   "cell_type": "code",
   "execution_count": 264,
   "metadata": {},
   "outputs": [],
   "source": [
    "def mean(data):\n",
    "    n = len(data)\n",
    "    mean = sum(data) / n\n",
    "    return mean"
   ]
  },
  {
   "cell_type": "markdown",
   "metadata": {},
   "source": [
    "#### Umschlagshäufigkeit"
   ]
  },
  {
   "cell_type": "code",
   "execution_count": 279,
   "metadata": {},
   "outputs": [],
   "source": [
    "# Umschlagshäufigkeit der Kunden\n",
    "#Umatzerlöse zu durchschnittl. Forderungen als L+L\n",
    "\n",
    "\n",
    "#Forderungen Total Balance Openging / Closing:\n",
    "receivable13_cl = tb13[tb13['Account class']=='Receivables']['Functional closing balance'].sum()\n",
    "receivable13_op = tb13[tb13['Account class']=='Receivables']['Functional opening balance'].sum()\n",
    "\n",
    "receivable14_cl = tb14[tb14['Account class']=='Receivables']['Functional closing balance'].sum()\n",
    "receivable14_op = tb14[tb14['Account class']=='Receivables']['Functional opening balance'].sum()\n",
    "\n",
    "recei13_mean = mean((receivable13_op,receivable13_cl))\n",
    "recei14_mean = mean((receivable14_op,receivable14_cl))"
   ]
  },
  {
   "cell_type": "code",
   "execution_count": 292,
   "metadata": {},
   "outputs": [],
   "source": [
    "uh13 = return_indicator(sales13*-1,recei13_mean) / 100\n",
    "uh14 = return_indicator(sales14*-1,recei14_mean) / 100"
   ]
  },
  {
   "cell_type": "code",
   "execution_count": 463,
   "metadata": {},
   "outputs": [
    {
     "name": "stdout",
     "output_type": "stream",
     "text": [
      "UH_13: 4.76% UH_14: 5.12%\n"
     ]
    }
   ],
   "source": [
    "print(\"UH_13: \"\"{:,.2f}%\".format(uh13), \"UH_14: \"\"{:,.2f}%\".format(uh14))"
   ]
  },
  {
   "cell_type": "markdown",
   "metadata": {},
   "source": [
    "#### Umschlagsdauer"
   ]
  },
  {
   "cell_type": "code",
   "execution_count": 296,
   "metadata": {},
   "outputs": [],
   "source": [
    "# Umschlagsdauer\n",
    "uh13_dauer = 365 / uh13\n",
    "uh14_dauer = 365 / uh14"
   ]
  },
  {
   "cell_type": "code",
   "execution_count": 468,
   "metadata": {},
   "outputs": [
    {
     "name": "stdout",
     "output_type": "stream",
     "text": [
      "UH-Dauer_13: 77 Tage  UH-Dauer_14: 71 Tage\n"
     ]
    }
   ],
   "source": [
    "print(\"UH-Dauer_13: \"\"{:.0f} Tage \".format(uh13_dauer), \"UH-Dauer_14: \"\"{:,.0f} Tage\".format(uh14_dauer))"
   ]
  },
  {
   "cell_type": "markdown",
   "metadata": {},
   "source": [
    "#### Check Saldenliste mit Buchungsjournal"
   ]
  },
  {
   "cell_type": "code",
   "execution_count": 374,
   "metadata": {},
   "outputs": [
    {
     "data": {
      "text/html": [
       "<div>\n",
       "<style scoped>\n",
       "    .dataframe tbody tr th:only-of-type {\n",
       "        vertical-align: middle;\n",
       "    }\n",
       "\n",
       "    .dataframe tbody tr th {\n",
       "        vertical-align: top;\n",
       "    }\n",
       "\n",
       "    .dataframe thead th {\n",
       "        text-align: right;\n",
       "    }\n",
       "</style>\n",
       "<table border=\"1\" class=\"dataframe\">\n",
       "  <thead>\n",
       "    <tr style=\"text-align: right;\">\n",
       "      <th></th>\n",
       "      <th>GL account code</th>\n",
       "      <th>GL account name</th>\n",
       "      <th>Account type</th>\n",
       "      <th>Account sub type</th>\n",
       "      <th>Account class</th>\n",
       "      <th>Account sub class</th>\n",
       "      <th>Functional opening balance</th>\n",
       "      <th>Functional closing balance</th>\n",
       "      <th>Business unit code</th>\n",
       "      <th>Business unit</th>\n",
       "      <th>Trial balance start date</th>\n",
       "      <th>Trial balance end date</th>\n",
       "      <th>Fiscal year</th>\n",
       "      <th>Fiscal period</th>\n",
       "      <th>Functional currency code</th>\n",
       "    </tr>\n",
       "  </thead>\n",
       "  <tbody>\n",
       "    <tr>\n",
       "      <th>0</th>\n",
       "      <td>20000050</td>\n",
       "      <td>Customer invoices to be issued</td>\n",
       "      <td>Assets</td>\n",
       "      <td>Current assets</td>\n",
       "      <td>Receivables</td>\n",
       "      <td>Trade receivables</td>\n",
       "      <td>5416.00</td>\n",
       "      <td>114226.00</td>\n",
       "      <td>1</td>\n",
       "      <td>ABC Company</td>\n",
       "      <td>2013-01-01</td>\n",
       "      <td>2013-12-31</td>\n",
       "      <td>2013</td>\n",
       "      <td>13</td>\n",
       "      <td>EUR</td>\n",
       "    </tr>\n",
       "    <tr>\n",
       "      <th>1</th>\n",
       "      <td>20000051</td>\n",
       "      <td>Credit notes to be issued</td>\n",
       "      <td>Assets</td>\n",
       "      <td>Current assets</td>\n",
       "      <td>Receivables</td>\n",
       "      <td>Trade receivables</td>\n",
       "      <td>0.00</td>\n",
       "      <td>0.00</td>\n",
       "      <td>1</td>\n",
       "      <td>ABC Company</td>\n",
       "      <td>2013-01-01</td>\n",
       "      <td>2013-12-31</td>\n",
       "      <td>2013</td>\n",
       "      <td>13</td>\n",
       "      <td>EUR</td>\n",
       "    </tr>\n",
       "    <tr>\n",
       "      <th>2</th>\n",
       "      <td>20000000</td>\n",
       "      <td>Receivables - domestic customer</td>\n",
       "      <td>Assets</td>\n",
       "      <td>Current assets</td>\n",
       "      <td>Receivables</td>\n",
       "      <td>Trade receivables</td>\n",
       "      <td>58638227.08</td>\n",
       "      <td>57451732.18</td>\n",
       "      <td>1</td>\n",
       "      <td>ABC Company</td>\n",
       "      <td>2013-01-01</td>\n",
       "      <td>2013-12-31</td>\n",
       "      <td>2013</td>\n",
       "      <td>13</td>\n",
       "      <td>EUR</td>\n",
       "    </tr>\n",
       "    <tr>\n",
       "      <th>3</th>\n",
       "      <td>20000021</td>\n",
       "      <td>Receivables - in receivership</td>\n",
       "      <td>Assets</td>\n",
       "      <td>Current assets</td>\n",
       "      <td>Receivables</td>\n",
       "      <td>Trade receivables</td>\n",
       "      <td>0.00</td>\n",
       "      <td>2904.00</td>\n",
       "      <td>1</td>\n",
       "      <td>ABC Company</td>\n",
       "      <td>2013-01-01</td>\n",
       "      <td>2013-12-31</td>\n",
       "      <td>2013</td>\n",
       "      <td>13</td>\n",
       "      <td>EUR</td>\n",
       "    </tr>\n",
       "    <tr>\n",
       "      <th>4</th>\n",
       "      <td>20000002</td>\n",
       "      <td>Receivables - customers other sales</td>\n",
       "      <td>Assets</td>\n",
       "      <td>Current assets</td>\n",
       "      <td>Receivables</td>\n",
       "      <td>Trade receivables</td>\n",
       "      <td>740147.12</td>\n",
       "      <td>525066.20</td>\n",
       "      <td>1</td>\n",
       "      <td>ABC Company</td>\n",
       "      <td>2013-01-01</td>\n",
       "      <td>2013-12-31</td>\n",
       "      <td>2013</td>\n",
       "      <td>13</td>\n",
       "      <td>EUR</td>\n",
       "    </tr>\n",
       "  </tbody>\n",
       "</table>\n",
       "</div>"
      ],
      "text/plain": [
       "   GL account code                      GL account name Account type  \\\n",
       "0         20000050       Customer invoices to be issued       Assets   \n",
       "1         20000051            Credit notes to be issued       Assets   \n",
       "2         20000000      Receivables - domestic customer       Assets   \n",
       "3         20000021        Receivables - in receivership       Assets   \n",
       "4         20000002  Receivables - customers other sales       Assets   \n",
       "\n",
       "  Account sub type Account class  Account sub class  \\\n",
       "0   Current assets   Receivables  Trade receivables   \n",
       "1   Current assets   Receivables  Trade receivables   \n",
       "2   Current assets   Receivables  Trade receivables   \n",
       "3   Current assets   Receivables  Trade receivables   \n",
       "4   Current assets   Receivables  Trade receivables   \n",
       "\n",
       "   Functional opening balance  Functional closing balance  Business unit code  \\\n",
       "0                     5416.00                   114226.00                   1   \n",
       "1                        0.00                        0.00                   1   \n",
       "2                 58638227.08                 57451732.18                   1   \n",
       "3                        0.00                     2904.00                   1   \n",
       "4                   740147.12                   525066.20                   1   \n",
       "\n",
       "  Business unit Trial balance start date Trial balance end date  Fiscal year  \\\n",
       "0   ABC Company               2013-01-01             2013-12-31         2013   \n",
       "1   ABC Company               2013-01-01             2013-12-31         2013   \n",
       "2   ABC Company               2013-01-01             2013-12-31         2013   \n",
       "3   ABC Company               2013-01-01             2013-12-31         2013   \n",
       "4   ABC Company               2013-01-01             2013-12-31         2013   \n",
       "\n",
       "   Fiscal period Functional currency code  \n",
       "0             13                      EUR  \n",
       "1             13                      EUR  \n",
       "2             13                      EUR  \n",
       "3             13                      EUR  \n",
       "4             13                      EUR  "
      ]
     },
     "execution_count": 374,
     "metadata": {},
     "output_type": "execute_result"
    }
   ],
   "source": [
    "tb13.head()"
   ]
  },
  {
   "cell_type": "code",
   "execution_count": 380,
   "metadata": {},
   "outputs": [],
   "source": [
    "# Total Balance opening - closing Balance\n",
    "tb_check_jour_13 = tb13[['GL account code','GL account name','Account type',\n",
    "      'Functional opening balance','Functional closing balance']].rename(columns={'Functional opening balance': 'opening_balance_13',\n",
    "                                                                                 'Functional closing balance': 'closing_balance_13'})\n",
    "\n",
    "tb_check_jour_14 = tb14[['GL account code','GL account name','Account type',\n",
    "      'Functional opening balance','Functional closing balance']].rename(columns={'Functional opening balance': 'opening_balance_14',\n",
    "                                                                                 'Functional closing balance': 'closing_balance_14'})"
   ]
  },
  {
   "cell_type": "code",
   "execution_count": 382,
   "metadata": {},
   "outputs": [],
   "source": [
    "def return_difference(X,Y):\n",
    "    return X - Y"
   ]
  },
  {
   "cell_type": "code",
   "execution_count": 384,
   "metadata": {},
   "outputs": [],
   "source": [
    "tb_check_jour_13['Delta_balance'] = return_difference(tb_check_jour_13.opening_balance_13,tb_check_jour_13.closing_balance_13)\n",
    "tb_check_jour_14['Delta_balance'] = return_difference(tb_check_jour_14.opening_balance_14,tb_check_jour_14.closing_balance_14)"
   ]
  },
  {
   "cell_type": "code",
   "execution_count": 385,
   "metadata": {},
   "outputs": [
    {
     "data": {
      "text/html": [
       "<div>\n",
       "<style scoped>\n",
       "    .dataframe tbody tr th:only-of-type {\n",
       "        vertical-align: middle;\n",
       "    }\n",
       "\n",
       "    .dataframe tbody tr th {\n",
       "        vertical-align: top;\n",
       "    }\n",
       "\n",
       "    .dataframe thead th {\n",
       "        text-align: right;\n",
       "    }\n",
       "</style>\n",
       "<table border=\"1\" class=\"dataframe\">\n",
       "  <thead>\n",
       "    <tr style=\"text-align: right;\">\n",
       "      <th></th>\n",
       "      <th>GL account code</th>\n",
       "      <th>GL account name</th>\n",
       "      <th>Account type</th>\n",
       "      <th>opening_balance_14</th>\n",
       "      <th>closing_balance_14</th>\n",
       "      <th>Delta_balance</th>\n",
       "    </tr>\n",
       "  </thead>\n",
       "  <tbody>\n",
       "    <tr>\n",
       "      <th>0</th>\n",
       "      <td>20000050</td>\n",
       "      <td>Customer invoices to be issued</td>\n",
       "      <td>Assets</td>\n",
       "      <td>114226.00</td>\n",
       "      <td>57354.48</td>\n",
       "      <td>56871.52</td>\n",
       "    </tr>\n",
       "    <tr>\n",
       "      <th>1</th>\n",
       "      <td>20000051</td>\n",
       "      <td>Credit notes to be issued</td>\n",
       "      <td>Assets</td>\n",
       "      <td>0.00</td>\n",
       "      <td>-4627.64</td>\n",
       "      <td>4627.64</td>\n",
       "    </tr>\n",
       "    <tr>\n",
       "      <th>2</th>\n",
       "      <td>20000000</td>\n",
       "      <td>Receivables - domestic customer</td>\n",
       "      <td>Assets</td>\n",
       "      <td>57451732.18</td>\n",
       "      <td>43878758.58</td>\n",
       "      <td>13572973.60</td>\n",
       "    </tr>\n",
       "    <tr>\n",
       "      <th>3</th>\n",
       "      <td>20000021</td>\n",
       "      <td>Receivables - in receivership</td>\n",
       "      <td>Assets</td>\n",
       "      <td>2904.00</td>\n",
       "      <td>2178.00</td>\n",
       "      <td>726.00</td>\n",
       "    </tr>\n",
       "    <tr>\n",
       "      <th>4</th>\n",
       "      <td>20000002</td>\n",
       "      <td>Receivables - customers other sales</td>\n",
       "      <td>Assets</td>\n",
       "      <td>525066.20</td>\n",
       "      <td>394025.48</td>\n",
       "      <td>131040.72</td>\n",
       "    </tr>\n",
       "  </tbody>\n",
       "</table>\n",
       "</div>"
      ],
      "text/plain": [
       "   GL account code                      GL account name Account type  \\\n",
       "0         20000050       Customer invoices to be issued       Assets   \n",
       "1         20000051            Credit notes to be issued       Assets   \n",
       "2         20000000      Receivables - domestic customer       Assets   \n",
       "3         20000021        Receivables - in receivership       Assets   \n",
       "4         20000002  Receivables - customers other sales       Assets   \n",
       "\n",
       "   opening_balance_14  closing_balance_14  Delta_balance  \n",
       "0           114226.00            57354.48       56871.52  \n",
       "1                0.00            -4627.64        4627.64  \n",
       "2         57451732.18         43878758.58    13572973.60  \n",
       "3             2904.00             2178.00         726.00  \n",
       "4           525066.20           394025.48      131040.72  "
      ]
     },
     "execution_count": 385,
     "metadata": {},
     "output_type": "execute_result"
    }
   ],
   "source": [
    "tb_check_jour_14.head()"
   ]
  },
  {
   "cell_type": "code",
   "execution_count": 393,
   "metadata": {},
   "outputs": [
    {
     "data": {
      "text/html": [
       "<div>\n",
       "<style scoped>\n",
       "    .dataframe tbody tr th:only-of-type {\n",
       "        vertical-align: middle;\n",
       "    }\n",
       "\n",
       "    .dataframe tbody tr th {\n",
       "        vertical-align: top;\n",
       "    }\n",
       "\n",
       "    .dataframe thead th {\n",
       "        text-align: right;\n",
       "    }\n",
       "</style>\n",
       "<table border=\"1\" class=\"dataframe\">\n",
       "  <thead>\n",
       "    <tr style=\"text-align: right;\">\n",
       "      <th></th>\n",
       "      <th>GL account code</th>\n",
       "      <th>GL account name</th>\n",
       "      <th>Account type</th>\n",
       "      <th>opening_balance_13</th>\n",
       "      <th>closing_balance_13</th>\n",
       "      <th>Delta_balance</th>\n",
       "    </tr>\n",
       "  </thead>\n",
       "  <tbody>\n",
       "    <tr>\n",
       "      <th>2</th>\n",
       "      <td>20000000</td>\n",
       "      <td>Receivables - domestic customer</td>\n",
       "      <td>Assets</td>\n",
       "      <td>58638227.08</td>\n",
       "      <td>57451732.18</td>\n",
       "      <td>1186494.9</td>\n",
       "    </tr>\n",
       "  </tbody>\n",
       "</table>\n",
       "</div>"
      ],
      "text/plain": [
       "   GL account code                  GL account name Account type  \\\n",
       "2         20000000  Receivables - domestic customer       Assets   \n",
       "\n",
       "   opening_balance_13  closing_balance_13  Delta_balance  \n",
       "2         58638227.08         57451732.18      1186494.9  "
      ]
     },
     "execution_count": 393,
     "metadata": {},
     "output_type": "execute_result"
    }
   ],
   "source": [
    "tb_check_jour_13[tb_check_jour_13['GL account code']==20000000]"
   ]
  },
  {
   "cell_type": "code",
   "execution_count": 387,
   "metadata": {},
   "outputs": [
    {
     "data": {
      "text/html": [
       "<div>\n",
       "<style scoped>\n",
       "    .dataframe tbody tr th:only-of-type {\n",
       "        vertical-align: middle;\n",
       "    }\n",
       "\n",
       "    .dataframe tbody tr th {\n",
       "        vertical-align: top;\n",
       "    }\n",
       "\n",
       "    .dataframe thead th {\n",
       "        text-align: right;\n",
       "    }\n",
       "</style>\n",
       "<table border=\"1\" class=\"dataframe\">\n",
       "  <thead>\n",
       "    <tr style=\"text-align: right;\">\n",
       "      <th></th>\n",
       "      <th>JE number</th>\n",
       "      <th>JE line number</th>\n",
       "      <th>GL account code</th>\n",
       "      <th>Fiscal year</th>\n",
       "      <th>Fiscal period</th>\n",
       "      <th>Effective date</th>\n",
       "      <th>Entry date</th>\n",
       "      <th>Source code</th>\n",
       "      <th>Source</th>\n",
       "      <th>Source group</th>\n",
       "      <th>Functional_Amount_13</th>\n",
       "      <th>GL account code.1</th>\n",
       "      <th>GL account name</th>\n",
       "      <th>Account type</th>\n",
       "      <th>Account sub type</th>\n",
       "      <th>Account class</th>\n",
       "      <th>type_statement</th>\n",
       "    </tr>\n",
       "  </thead>\n",
       "  <tbody>\n",
       "    <tr>\n",
       "      <th>0</th>\n",
       "      <td>2013-0001-0210000003</td>\n",
       "      <td>1</td>\n",
       "      <td>60000001</td>\n",
       "      <td>2013</td>\n",
       "      <td>1</td>\n",
       "      <td>2013-01-18</td>\n",
       "      <td>2013-01-21</td>\n",
       "      <td>FP</td>\n",
       "      <td>FP-Invoice promotion</td>\n",
       "      <td>Purchases</td>\n",
       "      <td>-84700.00</td>\n",
       "      <td>60000001</td>\n",
       "      <td>Payables - customer promotions</td>\n",
       "      <td>Liabilities</td>\n",
       "      <td>Current liabilities</td>\n",
       "      <td>Payables</td>\n",
       "      <td>balance_statement</td>\n",
       "    </tr>\n",
       "    <tr>\n",
       "      <th>1</th>\n",
       "      <td>2013-0001-0210000003</td>\n",
       "      <td>2</td>\n",
       "      <td>60000113</td>\n",
       "      <td>2013</td>\n",
       "      <td>1</td>\n",
       "      <td>2013-01-18</td>\n",
       "      <td>2013-01-21</td>\n",
       "      <td>FP</td>\n",
       "      <td>FP-Invoice promotion</td>\n",
       "      <td>Purchases</td>\n",
       "      <td>70000.00</td>\n",
       "      <td>60000113</td>\n",
       "      <td>Invoices to be received last year</td>\n",
       "      <td>Liabilities</td>\n",
       "      <td>Current liabilities</td>\n",
       "      <td>Payables</td>\n",
       "      <td>balance_statement</td>\n",
       "    </tr>\n",
       "    <tr>\n",
       "      <th>2</th>\n",
       "      <td>2013-0001-0210000003</td>\n",
       "      <td>3</td>\n",
       "      <td>20001102</td>\n",
       "      <td>2013</td>\n",
       "      <td>1</td>\n",
       "      <td>2013-01-18</td>\n",
       "      <td>2013-01-21</td>\n",
       "      <td>FP</td>\n",
       "      <td>FP-Invoice promotion</td>\n",
       "      <td>Purchases</td>\n",
       "      <td>14700.00</td>\n",
       "      <td>20001102</td>\n",
       "      <td>VAT purchases 1</td>\n",
       "      <td>Assets</td>\n",
       "      <td>Current assets</td>\n",
       "      <td>Receivables</td>\n",
       "      <td>balance_statement</td>\n",
       "    </tr>\n",
       "    <tr>\n",
       "      <th>3</th>\n",
       "      <td>2013-0001-0210000006</td>\n",
       "      <td>1</td>\n",
       "      <td>60000001</td>\n",
       "      <td>2013</td>\n",
       "      <td>1</td>\n",
       "      <td>2013-01-18</td>\n",
       "      <td>2013-01-21</td>\n",
       "      <td>FP</td>\n",
       "      <td>FP-Invoice promotion</td>\n",
       "      <td>Purchases</td>\n",
       "      <td>-3274.26</td>\n",
       "      <td>60000001</td>\n",
       "      <td>Payables - customer promotions</td>\n",
       "      <td>Liabilities</td>\n",
       "      <td>Current liabilities</td>\n",
       "      <td>Payables</td>\n",
       "      <td>balance_statement</td>\n",
       "    </tr>\n",
       "    <tr>\n",
       "      <th>4</th>\n",
       "      <td>2013-0001-0210000006</td>\n",
       "      <td>2</td>\n",
       "      <td>60000112</td>\n",
       "      <td>2013</td>\n",
       "      <td>1</td>\n",
       "      <td>2013-01-18</td>\n",
       "      <td>2013-01-21</td>\n",
       "      <td>FP</td>\n",
       "      <td>FP-Invoice promotion</td>\n",
       "      <td>Purchases</td>\n",
       "      <td>2706.00</td>\n",
       "      <td>60000112</td>\n",
       "      <td>Invoices to receive promotional last year</td>\n",
       "      <td>Liabilities</td>\n",
       "      <td>Current liabilities</td>\n",
       "      <td>Payables</td>\n",
       "      <td>balance_statement</td>\n",
       "    </tr>\n",
       "  </tbody>\n",
       "</table>\n",
       "</div>"
      ],
      "text/plain": [
       "              JE number  JE line number  GL account code  Fiscal year  \\\n",
       "0  2013-0001-0210000003               1         60000001         2013   \n",
       "1  2013-0001-0210000003               2         60000113         2013   \n",
       "2  2013-0001-0210000003               3         20001102         2013   \n",
       "3  2013-0001-0210000006               1         60000001         2013   \n",
       "4  2013-0001-0210000006               2         60000112         2013   \n",
       "\n",
       "   Fiscal period Effective date Entry date Source code                Source  \\\n",
       "0              1     2013-01-18 2013-01-21          FP  FP-Invoice promotion   \n",
       "1              1     2013-01-18 2013-01-21          FP  FP-Invoice promotion   \n",
       "2              1     2013-01-18 2013-01-21          FP  FP-Invoice promotion   \n",
       "3              1     2013-01-18 2013-01-21          FP  FP-Invoice promotion   \n",
       "4              1     2013-01-18 2013-01-21          FP  FP-Invoice promotion   \n",
       "\n",
       "  Source group  Functional_Amount_13  GL account code.1  \\\n",
       "0    Purchases             -84700.00           60000001   \n",
       "1    Purchases              70000.00           60000113   \n",
       "2    Purchases              14700.00           20001102   \n",
       "3    Purchases              -3274.26           60000001   \n",
       "4    Purchases               2706.00           60000112   \n",
       "\n",
       "                             GL account name Account type  \\\n",
       "0             Payables - customer promotions  Liabilities   \n",
       "1          Invoices to be received last year  Liabilities   \n",
       "2                            VAT purchases 1       Assets   \n",
       "3             Payables - customer promotions  Liabilities   \n",
       "4  Invoices to receive promotional last year  Liabilities   \n",
       "\n",
       "      Account sub type Account class     type_statement  \n",
       "0  Current liabilities      Payables  balance_statement  \n",
       "1  Current liabilities      Payables  balance_statement  \n",
       "2       Current assets   Receivables  balance_statement  \n",
       "3  Current liabilities      Payables  balance_statement  \n",
       "4  Current liabilities      Payables  balance_statement  "
      ]
     },
     "execution_count": 387,
     "metadata": {},
     "output_type": "execute_result"
    }
   ],
   "source": [
    "j13.head()"
   ]
  },
  {
   "cell_type": "code",
   "execution_count": 394,
   "metadata": {},
   "outputs": [],
   "source": [
    "# Journals grouped by GL Code\n",
    "j13_grouped_byGLCode = j13[['GL account code','GL account name','Account type','Functional_Amount_13']].groupby(['GL account code',\n",
    "                                                                                         'GL account name','Account type']).sum()\n",
    "\n",
    "j14_grouped_byGLCode = j14[['GL account code','GL account name','Account type','Functional_Amount_14']].groupby(['GL account code',\n",
    "                                                                                         'GL account name','Account type']).sum()"
   ]
  },
  {
   "cell_type": "code",
   "execution_count": 422,
   "metadata": {},
   "outputs": [],
   "source": [
    "#Join table Total Balance grouped on Journal\n",
    "tb_check_jour14 = tb_check_jour_14.groupby(['GL account code','GL account name','Account type']).sum().join(j14_grouped_byGLCode).round()\n",
    "\n",
    "tb_check_jour13 = tb_check_jour_13.groupby(['GL account code','GL account name','Account type']).sum().join(j13_grouped_byGLCode).round()"
   ]
  },
  {
   "cell_type": "code",
   "execution_count": 425,
   "metadata": {},
   "outputs": [],
   "source": [
    "tb_check_jour13.reset_index(inplace=True)\n",
    "tb_check_jour14.reset_index(inplace=True)"
   ]
  },
  {
   "cell_type": "code",
   "execution_count": 426,
   "metadata": {},
   "outputs": [],
   "source": [
    "# check on Differences among cols: Detla_balance and Functional_Amount\n",
    "tb_check_jour13['Delta_to_journal_yn'] = return_difference(tb_check_jour13.Delta_balance*-1,tb_check_jour13.Functional_Amount_13)\n",
    "tb_check_jour14['Delta_to_journal_yn'] = return_difference(tb_check_jour14.Delta_balance*-1,tb_check_jour14.Functional_Amount_14)"
   ]
  },
  {
   "cell_type": "code",
   "execution_count": 428,
   "metadata": {},
   "outputs": [
    {
     "data": {
      "text/html": [
       "<div>\n",
       "<style scoped>\n",
       "    .dataframe tbody tr th:only-of-type {\n",
       "        vertical-align: middle;\n",
       "    }\n",
       "\n",
       "    .dataframe tbody tr th {\n",
       "        vertical-align: top;\n",
       "    }\n",
       "\n",
       "    .dataframe thead th {\n",
       "        text-align: right;\n",
       "    }\n",
       "</style>\n",
       "<table border=\"1\" class=\"dataframe\">\n",
       "  <thead>\n",
       "    <tr style=\"text-align: right;\">\n",
       "      <th></th>\n",
       "      <th>GL account code</th>\n",
       "      <th>GL account name</th>\n",
       "      <th>Account type</th>\n",
       "      <th>opening_balance_13</th>\n",
       "      <th>closing_balance_13</th>\n",
       "      <th>Delta_balance</th>\n",
       "      <th>Functional_Amount_13</th>\n",
       "      <th>Delta_to_journal_yn</th>\n",
       "    </tr>\n",
       "  </thead>\n",
       "  <tbody>\n",
       "    <tr>\n",
       "      <th>0</th>\n",
       "      <td>20000000</td>\n",
       "      <td>Receivables - domestic customer</td>\n",
       "      <td>Assets</td>\n",
       "      <td>58638227.0</td>\n",
       "      <td>57451732.0</td>\n",
       "      <td>1186495.0</td>\n",
       "      <td>-1186495.0</td>\n",
       "      <td>0.0</td>\n",
       "    </tr>\n",
       "    <tr>\n",
       "      <th>1</th>\n",
       "      <td>20000002</td>\n",
       "      <td>Receivables - customers other sales</td>\n",
       "      <td>Assets</td>\n",
       "      <td>740147.0</td>\n",
       "      <td>525066.0</td>\n",
       "      <td>215081.0</td>\n",
       "      <td>-215081.0</td>\n",
       "      <td>0.0</td>\n",
       "    </tr>\n",
       "    <tr>\n",
       "      <th>2</th>\n",
       "      <td>20000003</td>\n",
       "      <td>Receivables - related domestic</td>\n",
       "      <td>Assets</td>\n",
       "      <td>2810250.0</td>\n",
       "      <td>2492425.0</td>\n",
       "      <td>317825.0</td>\n",
       "      <td>-317825.0</td>\n",
       "      <td>0.0</td>\n",
       "    </tr>\n",
       "    <tr>\n",
       "      <th>3</th>\n",
       "      <td>20000004</td>\n",
       "      <td>Receivables - foreign customers 1</td>\n",
       "      <td>Assets</td>\n",
       "      <td>1233777.0</td>\n",
       "      <td>1179161.0</td>\n",
       "      <td>54616.0</td>\n",
       "      <td>-54616.0</td>\n",
       "      <td>0.0</td>\n",
       "    </tr>\n",
       "    <tr>\n",
       "      <th>4</th>\n",
       "      <td>20000005</td>\n",
       "      <td>Receivables - foreign customers 2</td>\n",
       "      <td>Assets</td>\n",
       "      <td>535682.0</td>\n",
       "      <td>588612.0</td>\n",
       "      <td>-52930.0</td>\n",
       "      <td>52930.0</td>\n",
       "      <td>0.0</td>\n",
       "    </tr>\n",
       "  </tbody>\n",
       "</table>\n",
       "</div>"
      ],
      "text/plain": [
       "   GL account code                      GL account name Account type  \\\n",
       "0         20000000      Receivables - domestic customer       Assets   \n",
       "1         20000002  Receivables - customers other sales       Assets   \n",
       "2         20000003       Receivables - related domestic       Assets   \n",
       "3         20000004    Receivables - foreign customers 1       Assets   \n",
       "4         20000005    Receivables - foreign customers 2       Assets   \n",
       "\n",
       "   opening_balance_13  closing_balance_13  Delta_balance  \\\n",
       "0          58638227.0          57451732.0      1186495.0   \n",
       "1            740147.0            525066.0       215081.0   \n",
       "2           2810250.0           2492425.0       317825.0   \n",
       "3           1233777.0           1179161.0        54616.0   \n",
       "4            535682.0            588612.0       -52930.0   \n",
       "\n",
       "   Functional_Amount_13  Delta_to_journal_yn  \n",
       "0            -1186495.0                  0.0  \n",
       "1             -215081.0                  0.0  \n",
       "2             -317825.0                  0.0  \n",
       "3              -54616.0                  0.0  \n",
       "4               52930.0                  0.0  "
      ]
     },
     "execution_count": 428,
     "metadata": {},
     "output_type": "execute_result"
    }
   ],
   "source": [
    "tb_check_jour13.head()"
   ]
  },
  {
   "cell_type": "code",
   "execution_count": 437,
   "metadata": {},
   "outputs": [],
   "source": [
    "#Check Saldenliste mit Buchungsjournal:\n",
    "\n",
    "check_j13 = tb_check_jour13.groupby(['Account type']).agg({'GL account code':'count','opening_balance_13':sum,\n",
    "                                              'closing_balance_13':sum,'Delta_balance':sum,'Functional_Amount_13':sum,'Delta_to_journal_yn':sum}).rename(columns={'GL account code':'GL account code counts'})\n",
    "\n",
    "check_j14 = tb_check_jour14.groupby(['Account type']).agg({'GL account code':'count','opening_balance_14':sum,\n",
    "                                              'closing_balance_14':sum,'Delta_balance':sum,'Functional_Amount_14':sum,'Delta_to_journal_yn':sum}).rename(columns={'GL account code':'GL account code counts'})"
   ]
  },
  {
   "cell_type": "code",
   "execution_count": 443,
   "metadata": {},
   "outputs": [],
   "source": [
    "def color_negative_red(val):\n",
    "    \"\"\"\n",
    "    Takes a scalar and returns a string with\n",
    "    the css property `'color: red'` for negative\n",
    "    strings, black otherwise.\n",
    "    \"\"\"\n",
    "    color = 'red' if val < 0 else 'black'\n",
    "    return 'color: %s' % color"
   ]
  },
  {
   "cell_type": "code",
   "execution_count": 448,
   "metadata": {},
   "outputs": [
    {
     "data": {
      "text/html": [
       "<style  type=\"text/css\" >\n",
       "    #T_5be15ba6_b5f3_11ea_bc6d_e86a64313f31row0_col0 {\n",
       "            color:  black;\n",
       "        }    #T_5be15ba6_b5f3_11ea_bc6d_e86a64313f31row0_col1 {\n",
       "            color:  black;\n",
       "        }    #T_5be15ba6_b5f3_11ea_bc6d_e86a64313f31row0_col2 {\n",
       "            color:  black;\n",
       "        }    #T_5be15ba6_b5f3_11ea_bc6d_e86a64313f31row0_col3 {\n",
       "            color:  red;\n",
       "        }    #T_5be15ba6_b5f3_11ea_bc6d_e86a64313f31row0_col4 {\n",
       "            color:  black;\n",
       "        }    #T_5be15ba6_b5f3_11ea_bc6d_e86a64313f31row0_col5 {\n",
       "            color:  black;\n",
       "        }    #T_5be15ba6_b5f3_11ea_bc6d_e86a64313f31row1_col0 {\n",
       "            color:  black;\n",
       "        }    #T_5be15ba6_b5f3_11ea_bc6d_e86a64313f31row1_col1 {\n",
       "            color:  red;\n",
       "        }    #T_5be15ba6_b5f3_11ea_bc6d_e86a64313f31row1_col2 {\n",
       "            color:  red;\n",
       "        }    #T_5be15ba6_b5f3_11ea_bc6d_e86a64313f31row1_col3 {\n",
       "            color:  black;\n",
       "        }    #T_5be15ba6_b5f3_11ea_bc6d_e86a64313f31row1_col4 {\n",
       "            color:  black;\n",
       "        }    #T_5be15ba6_b5f3_11ea_bc6d_e86a64313f31row1_col5 {\n",
       "            color:  black;\n",
       "        }    #T_5be15ba6_b5f3_11ea_bc6d_e86a64313f31row2_col0 {\n",
       "            color:  black;\n",
       "        }    #T_5be15ba6_b5f3_11ea_bc6d_e86a64313f31row2_col1 {\n",
       "            color:  black;\n",
       "        }    #T_5be15ba6_b5f3_11ea_bc6d_e86a64313f31row2_col2 {\n",
       "            color:  black;\n",
       "        }    #T_5be15ba6_b5f3_11ea_bc6d_e86a64313f31row2_col3 {\n",
       "            color:  red;\n",
       "        }    #T_5be15ba6_b5f3_11ea_bc6d_e86a64313f31row2_col4 {\n",
       "            color:  black;\n",
       "        }    #T_5be15ba6_b5f3_11ea_bc6d_e86a64313f31row2_col5 {\n",
       "            color:  red;\n",
       "        }    #T_5be15ba6_b5f3_11ea_bc6d_e86a64313f31row3_col0 {\n",
       "            color:  black;\n",
       "        }    #T_5be15ba6_b5f3_11ea_bc6d_e86a64313f31row3_col1 {\n",
       "            color:  red;\n",
       "        }    #T_5be15ba6_b5f3_11ea_bc6d_e86a64313f31row3_col2 {\n",
       "            color:  red;\n",
       "        }    #T_5be15ba6_b5f3_11ea_bc6d_e86a64313f31row3_col3 {\n",
       "            color:  black;\n",
       "        }    #T_5be15ba6_b5f3_11ea_bc6d_e86a64313f31row3_col4 {\n",
       "            color:  red;\n",
       "        }    #T_5be15ba6_b5f3_11ea_bc6d_e86a64313f31row3_col5 {\n",
       "            color:  black;\n",
       "        }    #T_5be15ba6_b5f3_11ea_bc6d_e86a64313f31row4_col0 {\n",
       "            color:  black;\n",
       "        }    #T_5be15ba6_b5f3_11ea_bc6d_e86a64313f31row4_col1 {\n",
       "            color:  black;\n",
       "        }    #T_5be15ba6_b5f3_11ea_bc6d_e86a64313f31row4_col2 {\n",
       "            color:  red;\n",
       "        }    #T_5be15ba6_b5f3_11ea_bc6d_e86a64313f31row4_col3 {\n",
       "            color:  black;\n",
       "        }    #T_5be15ba6_b5f3_11ea_bc6d_e86a64313f31row4_col4 {\n",
       "            color:  red;\n",
       "        }    #T_5be15ba6_b5f3_11ea_bc6d_e86a64313f31row4_col5 {\n",
       "            color:  black;\n",
       "        }</style><table id=\"T_5be15ba6_b5f3_11ea_bc6d_e86a64313f31\" ><thead>    <tr>        <th class=\"blank level0\" ></th>        <th class=\"col_heading level0 col0\" >GL account code counts</th>        <th class=\"col_heading level0 col1\" >opening_balance_13</th>        <th class=\"col_heading level0 col2\" >closing_balance_13</th>        <th class=\"col_heading level0 col3\" >Delta_balance</th>        <th class=\"col_heading level0 col4\" >Functional_Amount_13</th>        <th class=\"col_heading level0 col5\" >Delta_to_journal_yn</th>    </tr>    <tr>        <th class=\"index_name level0\" >Account type</th>        <th class=\"blank\" ></th>        <th class=\"blank\" ></th>        <th class=\"blank\" ></th>        <th class=\"blank\" ></th>        <th class=\"blank\" ></th>        <th class=\"blank\" ></th>    </tr></thead><tbody>\n",
       "                <tr>\n",
       "                        <th id=\"T_5be15ba6_b5f3_11ea_bc6d_e86a64313f31level0_row0\" class=\"row_heading level0 row0\" >Assets</th>\n",
       "                        <td id=\"T_5be15ba6_b5f3_11ea_bc6d_e86a64313f31row0_col0\" class=\"data row0 col0\" >132.00</td>\n",
       "                        <td id=\"T_5be15ba6_b5f3_11ea_bc6d_e86a64313f31row0_col1\" class=\"data row0 col1\" >328,336,182.00</td>\n",
       "                        <td id=\"T_5be15ba6_b5f3_11ea_bc6d_e86a64313f31row0_col2\" class=\"data row0 col2\" >370,991,865.00</td>\n",
       "                        <td id=\"T_5be15ba6_b5f3_11ea_bc6d_e86a64313f31row0_col3\" class=\"data row0 col3\" >-42,655,684.00</td>\n",
       "                        <td id=\"T_5be15ba6_b5f3_11ea_bc6d_e86a64313f31row0_col4\" class=\"data row0 col4\" >42,655,683.00</td>\n",
       "                        <td id=\"T_5be15ba6_b5f3_11ea_bc6d_e86a64313f31row0_col5\" class=\"data row0 col5\" >1.00</td>\n",
       "            </tr>\n",
       "            <tr>\n",
       "                        <th id=\"T_5be15ba6_b5f3_11ea_bc6d_e86a64313f31level0_row1\" class=\"row_heading level0 row1\" >Equity</th>\n",
       "                        <td id=\"T_5be15ba6_b5f3_11ea_bc6d_e86a64313f31row1_col0\" class=\"data row1 col0\" >7.00</td>\n",
       "                        <td id=\"T_5be15ba6_b5f3_11ea_bc6d_e86a64313f31row1_col1\" class=\"data row1 col1\" >-189,285,133.00</td>\n",
       "                        <td id=\"T_5be15ba6_b5f3_11ea_bc6d_e86a64313f31row1_col2\" class=\"data row1 col2\" >-189,285,133.00</td>\n",
       "                        <td id=\"T_5be15ba6_b5f3_11ea_bc6d_e86a64313f31row1_col3\" class=\"data row1 col3\" >0.00</td>\n",
       "                        <td id=\"T_5be15ba6_b5f3_11ea_bc6d_e86a64313f31row1_col4\" class=\"data row1 col4\" >0.00</td>\n",
       "                        <td id=\"T_5be15ba6_b5f3_11ea_bc6d_e86a64313f31row1_col5\" class=\"data row1 col5\" >0.00</td>\n",
       "            </tr>\n",
       "            <tr>\n",
       "                        <th id=\"T_5be15ba6_b5f3_11ea_bc6d_e86a64313f31level0_row2\" class=\"row_heading level0 row2\" >Expenses</th>\n",
       "                        <td id=\"T_5be15ba6_b5f3_11ea_bc6d_e86a64313f31row2_col0\" class=\"data row2 col0\" >258.00</td>\n",
       "                        <td id=\"T_5be15ba6_b5f3_11ea_bc6d_e86a64313f31row2_col1\" class=\"data row2 col1\" >0.00</td>\n",
       "                        <td id=\"T_5be15ba6_b5f3_11ea_bc6d_e86a64313f31row2_col2\" class=\"data row2 col2\" >431,469,754.00</td>\n",
       "                        <td id=\"T_5be15ba6_b5f3_11ea_bc6d_e86a64313f31row2_col3\" class=\"data row2 col3\" >-431,469,754.00</td>\n",
       "                        <td id=\"T_5be15ba6_b5f3_11ea_bc6d_e86a64313f31row2_col4\" class=\"data row2 col4\" >431,469,756.00</td>\n",
       "                        <td id=\"T_5be15ba6_b5f3_11ea_bc6d_e86a64313f31row2_col5\" class=\"data row2 col5\" >-2.00</td>\n",
       "            </tr>\n",
       "            <tr>\n",
       "                        <th id=\"T_5be15ba6_b5f3_11ea_bc6d_e86a64313f31level0_row3\" class=\"row_heading level0 row3\" >Liabilities</th>\n",
       "                        <td id=\"T_5be15ba6_b5f3_11ea_bc6d_e86a64313f31row3_col0\" class=\"data row3 col0\" >81.00</td>\n",
       "                        <td id=\"T_5be15ba6_b5f3_11ea_bc6d_e86a64313f31row3_col1\" class=\"data row3 col1\" >-139,051,052.00</td>\n",
       "                        <td id=\"T_5be15ba6_b5f3_11ea_bc6d_e86a64313f31row3_col2\" class=\"data row3 col2\" >-139,816,511.00</td>\n",
       "                        <td id=\"T_5be15ba6_b5f3_11ea_bc6d_e86a64313f31row3_col3\" class=\"data row3 col3\" >765,461.00</td>\n",
       "                        <td id=\"T_5be15ba6_b5f3_11ea_bc6d_e86a64313f31row3_col4\" class=\"data row3 col4\" >-765,462.00</td>\n",
       "                        <td id=\"T_5be15ba6_b5f3_11ea_bc6d_e86a64313f31row3_col5\" class=\"data row3 col5\" >1.00</td>\n",
       "            </tr>\n",
       "            <tr>\n",
       "                        <th id=\"T_5be15ba6_b5f3_11ea_bc6d_e86a64313f31level0_row4\" class=\"row_heading level0 row4\" >Revenue</th>\n",
       "                        <td id=\"T_5be15ba6_b5f3_11ea_bc6d_e86a64313f31row4_col0\" class=\"data row4 col0\" >48.00</td>\n",
       "                        <td id=\"T_5be15ba6_b5f3_11ea_bc6d_e86a64313f31row4_col1\" class=\"data row4 col1\" >0.00</td>\n",
       "                        <td id=\"T_5be15ba6_b5f3_11ea_bc6d_e86a64313f31row4_col2\" class=\"data row4 col2\" >-473,359,974.00</td>\n",
       "                        <td id=\"T_5be15ba6_b5f3_11ea_bc6d_e86a64313f31row4_col3\" class=\"data row4 col3\" >473,359,974.00</td>\n",
       "                        <td id=\"T_5be15ba6_b5f3_11ea_bc6d_e86a64313f31row4_col4\" class=\"data row4 col4\" >-473,359,974.00</td>\n",
       "                        <td id=\"T_5be15ba6_b5f3_11ea_bc6d_e86a64313f31row4_col5\" class=\"data row4 col5\" >0.00</td>\n",
       "            </tr>\n",
       "    </tbody></table>"
      ],
      "text/plain": [
       "<pandas.io.formats.style.Styler at 0x20117331cf8>"
      ]
     },
     "execution_count": 448,
     "metadata": {},
     "output_type": "execute_result"
    }
   ],
   "source": [
    "check_j13.style.format(\"{:,.2f}\").applymap(color_negative_red)"
   ]
  },
  {
   "cell_type": "code",
   "execution_count": 449,
   "metadata": {},
   "outputs": [
    {
     "data": {
      "text/html": [
       "<style  type=\"text/css\" >\n",
       "    #T_86edbdec_b5f3_11ea_b10f_e86a64313f31row0_col0 {\n",
       "            color:  black;\n",
       "        }    #T_86edbdec_b5f3_11ea_b10f_e86a64313f31row0_col1 {\n",
       "            color:  black;\n",
       "        }    #T_86edbdec_b5f3_11ea_b10f_e86a64313f31row0_col2 {\n",
       "            color:  black;\n",
       "        }    #T_86edbdec_b5f3_11ea_b10f_e86a64313f31row0_col3 {\n",
       "            color:  black;\n",
       "        }    #T_86edbdec_b5f3_11ea_b10f_e86a64313f31row0_col4 {\n",
       "            color:  red;\n",
       "        }    #T_86edbdec_b5f3_11ea_b10f_e86a64313f31row0_col5 {\n",
       "            color:  black;\n",
       "        }    #T_86edbdec_b5f3_11ea_b10f_e86a64313f31row1_col0 {\n",
       "            color:  black;\n",
       "        }    #T_86edbdec_b5f3_11ea_b10f_e86a64313f31row1_col1 {\n",
       "            color:  red;\n",
       "        }    #T_86edbdec_b5f3_11ea_b10f_e86a64313f31row1_col2 {\n",
       "            color:  red;\n",
       "        }    #T_86edbdec_b5f3_11ea_b10f_e86a64313f31row1_col3 {\n",
       "            color:  red;\n",
       "        }    #T_86edbdec_b5f3_11ea_b10f_e86a64313f31row1_col4 {\n",
       "            color:  black;\n",
       "        }    #T_86edbdec_b5f3_11ea_b10f_e86a64313f31row1_col5 {\n",
       "            color:  black;\n",
       "        }    #T_86edbdec_b5f3_11ea_b10f_e86a64313f31row2_col0 {\n",
       "            color:  black;\n",
       "        }    #T_86edbdec_b5f3_11ea_b10f_e86a64313f31row2_col1 {\n",
       "            color:  black;\n",
       "        }    #T_86edbdec_b5f3_11ea_b10f_e86a64313f31row2_col2 {\n",
       "            color:  black;\n",
       "        }    #T_86edbdec_b5f3_11ea_b10f_e86a64313f31row2_col3 {\n",
       "            color:  red;\n",
       "        }    #T_86edbdec_b5f3_11ea_b10f_e86a64313f31row2_col4 {\n",
       "            color:  black;\n",
       "        }    #T_86edbdec_b5f3_11ea_b10f_e86a64313f31row2_col5 {\n",
       "            color:  black;\n",
       "        }    #T_86edbdec_b5f3_11ea_b10f_e86a64313f31row3_col0 {\n",
       "            color:  black;\n",
       "        }    #T_86edbdec_b5f3_11ea_b10f_e86a64313f31row3_col1 {\n",
       "            color:  red;\n",
       "        }    #T_86edbdec_b5f3_11ea_b10f_e86a64313f31row3_col2 {\n",
       "            color:  red;\n",
       "        }    #T_86edbdec_b5f3_11ea_b10f_e86a64313f31row3_col3 {\n",
       "            color:  red;\n",
       "        }    #T_86edbdec_b5f3_11ea_b10f_e86a64313f31row3_col4 {\n",
       "            color:  black;\n",
       "        }    #T_86edbdec_b5f3_11ea_b10f_e86a64313f31row3_col5 {\n",
       "            color:  black;\n",
       "        }    #T_86edbdec_b5f3_11ea_b10f_e86a64313f31row4_col0 {\n",
       "            color:  black;\n",
       "        }    #T_86edbdec_b5f3_11ea_b10f_e86a64313f31row4_col1 {\n",
       "            color:  black;\n",
       "        }    #T_86edbdec_b5f3_11ea_b10f_e86a64313f31row4_col2 {\n",
       "            color:  red;\n",
       "        }    #T_86edbdec_b5f3_11ea_b10f_e86a64313f31row4_col3 {\n",
       "            color:  black;\n",
       "        }    #T_86edbdec_b5f3_11ea_b10f_e86a64313f31row4_col4 {\n",
       "            color:  red;\n",
       "        }    #T_86edbdec_b5f3_11ea_b10f_e86a64313f31row4_col5 {\n",
       "            color:  black;\n",
       "        }</style><table id=\"T_86edbdec_b5f3_11ea_b10f_e86a64313f31\" ><thead>    <tr>        <th class=\"blank level0\" ></th>        <th class=\"col_heading level0 col0\" >GL account code counts</th>        <th class=\"col_heading level0 col1\" >opening_balance_14</th>        <th class=\"col_heading level0 col2\" >closing_balance_14</th>        <th class=\"col_heading level0 col3\" >Delta_balance</th>        <th class=\"col_heading level0 col4\" >Functional_Amount_14</th>        <th class=\"col_heading level0 col5\" >Delta_to_journal_yn</th>    </tr>    <tr>        <th class=\"index_name level0\" >Account type</th>        <th class=\"blank\" ></th>        <th class=\"blank\" ></th>        <th class=\"blank\" ></th>        <th class=\"blank\" ></th>        <th class=\"blank\" ></th>        <th class=\"blank\" ></th>    </tr></thead><tbody>\n",
       "                <tr>\n",
       "                        <th id=\"T_86edbdec_b5f3_11ea_b10f_e86a64313f31level0_row0\" class=\"row_heading level0 row0\" >Assets</th>\n",
       "                        <td id=\"T_86edbdec_b5f3_11ea_b10f_e86a64313f31row0_col0\" class=\"data row0 col0\" >132.00</td>\n",
       "                        <td id=\"T_86edbdec_b5f3_11ea_b10f_e86a64313f31row0_col1\" class=\"data row0 col1\" >370,991,865.00</td>\n",
       "                        <td id=\"T_86edbdec_b5f3_11ea_b10f_e86a64313f31row0_col2\" class=\"data row0 col2\" >336,097,348.00</td>\n",
       "                        <td id=\"T_86edbdec_b5f3_11ea_b10f_e86a64313f31row0_col3\" class=\"data row0 col3\" >34,894,522.00</td>\n",
       "                        <td id=\"T_86edbdec_b5f3_11ea_b10f_e86a64313f31row0_col4\" class=\"data row0 col4\" >-34,894,523.00</td>\n",
       "                        <td id=\"T_86edbdec_b5f3_11ea_b10f_e86a64313f31row0_col5\" class=\"data row0 col5\" >1.00</td>\n",
       "            </tr>\n",
       "            <tr>\n",
       "                        <th id=\"T_86edbdec_b5f3_11ea_b10f_e86a64313f31level0_row1\" class=\"row_heading level0 row1\" >Equity</th>\n",
       "                        <td id=\"T_86edbdec_b5f3_11ea_b10f_e86a64313f31row1_col0\" class=\"data row1 col0\" >7.00</td>\n",
       "                        <td id=\"T_86edbdec_b5f3_11ea_b10f_e86a64313f31row1_col1\" class=\"data row1 col1\" >-231,175,353.00</td>\n",
       "                        <td id=\"T_86edbdec_b5f3_11ea_b10f_e86a64313f31row1_col2\" class=\"data row1 col2\" >-155,175,353.00</td>\n",
       "                        <td id=\"T_86edbdec_b5f3_11ea_b10f_e86a64313f31row1_col3\" class=\"data row1 col3\" >-76,000,000.00</td>\n",
       "                        <td id=\"T_86edbdec_b5f3_11ea_b10f_e86a64313f31row1_col4\" class=\"data row1 col4\" >76,000,000.00</td>\n",
       "                        <td id=\"T_86edbdec_b5f3_11ea_b10f_e86a64313f31row1_col5\" class=\"data row1 col5\" >0.00</td>\n",
       "            </tr>\n",
       "            <tr>\n",
       "                        <th id=\"T_86edbdec_b5f3_11ea_b10f_e86a64313f31level0_row2\" class=\"row_heading level0 row2\" >Expenses</th>\n",
       "                        <td id=\"T_86edbdec_b5f3_11ea_b10f_e86a64313f31row2_col0\" class=\"data row2 col0\" >258.00</td>\n",
       "                        <td id=\"T_86edbdec_b5f3_11ea_b10f_e86a64313f31row2_col1\" class=\"data row2 col1\" >0.00</td>\n",
       "                        <td id=\"T_86edbdec_b5f3_11ea_b10f_e86a64313f31row2_col2\" class=\"data row2 col2\" >428,940,293.00</td>\n",
       "                        <td id=\"T_86edbdec_b5f3_11ea_b10f_e86a64313f31row2_col3\" class=\"data row2 col3\" >-428,940,293.00</td>\n",
       "                        <td id=\"T_86edbdec_b5f3_11ea_b10f_e86a64313f31row2_col4\" class=\"data row2 col4\" >428,940,292.00</td>\n",
       "                        <td id=\"T_86edbdec_b5f3_11ea_b10f_e86a64313f31row2_col5\" class=\"data row2 col5\" >1.00</td>\n",
       "            </tr>\n",
       "            <tr>\n",
       "                        <th id=\"T_86edbdec_b5f3_11ea_b10f_e86a64313f31level0_row3\" class=\"row_heading level0 row3\" >Liabilities</th>\n",
       "                        <td id=\"T_86edbdec_b5f3_11ea_b10f_e86a64313f31row3_col0\" class=\"data row3 col0\" >81.00</td>\n",
       "                        <td id=\"T_86edbdec_b5f3_11ea_b10f_e86a64313f31row3_col1\" class=\"data row3 col1\" >-139,816,511.00</td>\n",
       "                        <td id=\"T_86edbdec_b5f3_11ea_b10f_e86a64313f31row3_col2\" class=\"data row3 col2\" >-137,237,672.00</td>\n",
       "                        <td id=\"T_86edbdec_b5f3_11ea_b10f_e86a64313f31row3_col3\" class=\"data row3 col3\" >-2,578,836.00</td>\n",
       "                        <td id=\"T_86edbdec_b5f3_11ea_b10f_e86a64313f31row3_col4\" class=\"data row3 col4\" >2,578,836.00</td>\n",
       "                        <td id=\"T_86edbdec_b5f3_11ea_b10f_e86a64313f31row3_col5\" class=\"data row3 col5\" >0.00</td>\n",
       "            </tr>\n",
       "            <tr>\n",
       "                        <th id=\"T_86edbdec_b5f3_11ea_b10f_e86a64313f31level0_row4\" class=\"row_heading level0 row4\" >Revenue</th>\n",
       "                        <td id=\"T_86edbdec_b5f3_11ea_b10f_e86a64313f31row4_col0\" class=\"data row4 col0\" >48.00</td>\n",
       "                        <td id=\"T_86edbdec_b5f3_11ea_b10f_e86a64313f31row4_col1\" class=\"data row4 col1\" >0.00</td>\n",
       "                        <td id=\"T_86edbdec_b5f3_11ea_b10f_e86a64313f31row4_col2\" class=\"data row4 col2\" >-472,624,608.00</td>\n",
       "                        <td id=\"T_86edbdec_b5f3_11ea_b10f_e86a64313f31row4_col3\" class=\"data row4 col3\" >472,624,608.00</td>\n",
       "                        <td id=\"T_86edbdec_b5f3_11ea_b10f_e86a64313f31row4_col4\" class=\"data row4 col4\" >-472,624,608.00</td>\n",
       "                        <td id=\"T_86edbdec_b5f3_11ea_b10f_e86a64313f31row4_col5\" class=\"data row4 col5\" >0.00</td>\n",
       "            </tr>\n",
       "    </tbody></table>"
      ],
      "text/plain": [
       "<pandas.io.formats.style.Styler at 0x20104ed5ac8>"
      ]
     },
     "execution_count": 449,
     "metadata": {},
     "output_type": "execute_result"
    }
   ],
   "source": [
    "check_j14.style.format(\"{:,.2f}\").applymap(color_negative_red)"
   ]
  },
  {
   "cell_type": "markdown",
   "metadata": {},
   "source": [
    "#### Zuammenfassung"
   ]
  },
  {
   "cell_type": "code",
   "execution_count": 514,
   "metadata": {},
   "outputs": [],
   "source": [
    "table_ges = [('Eigenkaptial', ek13*-1, ek14*-1), \n",
    "            ('Fremdkaptial', (gk13-ek13*-1), (gk14-ek14*-1)), \n",
    "            ('Anlagevermögen', av13, av14),\n",
    "             ('Umlaufvermögen', (gk13-av13), (gk14 - av14))]\n",
    "              \n"
   ]
  },
  {
   "cell_type": "code",
   "execution_count": 515,
   "metadata": {},
   "outputs": [
    {
     "data": {
      "text/plain": [
       "[('Eigenkaptial', 250237910.9800002, 220346575.68000013),\n",
       " ('Fremdkaptial', 120753953.71999979, 115750772.05999988),\n",
       " ('Anlagevermögen', 158122213.42000002, 185387014.46),\n",
       " ('Umlaufvermögen', 212869651.27999997, 150710333.28)]"
      ]
     },
     "execution_count": 515,
     "metadata": {},
     "output_type": "execute_result"
    }
   ],
   "source": [
    "table_ges"
   ]
  },
  {
   "cell_type": "code",
   "execution_count": 516,
   "metadata": {},
   "outputs": [],
   "source": [
    "# create DataFrame using data \n",
    "ges = pd.DataFrame(table_ges, columns =['Key_Indicator', 'Year_13', 'Year_14']) \n"
   ]
  },
  {
   "cell_type": "code",
   "execution_count": 524,
   "metadata": {},
   "outputs": [
    {
     "data": {
      "text/html": [
       "<style  type=\"text/css\" >\n",
       "    #T_b7e0582e_b618_11ea_bde2_e86a64313f31row0_col0 {\n",
       "            color:  black;\n",
       "        }    #T_b7e0582e_b618_11ea_bde2_e86a64313f31row0_col1 {\n",
       "            color:  black;\n",
       "        }    #T_b7e0582e_b618_11ea_bde2_e86a64313f31row1_col0 {\n",
       "            color:  black;\n",
       "        }    #T_b7e0582e_b618_11ea_bde2_e86a64313f31row1_col1 {\n",
       "            color:  black;\n",
       "        }    #T_b7e0582e_b618_11ea_bde2_e86a64313f31row2_col0 {\n",
       "            color:  black;\n",
       "        }    #T_b7e0582e_b618_11ea_bde2_e86a64313f31row2_col1 {\n",
       "            color:  black;\n",
       "        }    #T_b7e0582e_b618_11ea_bde2_e86a64313f31row3_col0 {\n",
       "            color:  black;\n",
       "        }    #T_b7e0582e_b618_11ea_bde2_e86a64313f31row3_col1 {\n",
       "            color:  black;\n",
       "        }</style><table id=\"T_b7e0582e_b618_11ea_bde2_e86a64313f31\" ><thead>    <tr>        <th class=\"blank level0\" ></th>        <th class=\"col_heading level0 col0\" >Year_13</th>        <th class=\"col_heading level0 col1\" >Year_14</th>    </tr>    <tr>        <th class=\"index_name level0\" >Key_Indicator</th>        <th class=\"blank\" ></th>        <th class=\"blank\" ></th>    </tr></thead><tbody>\n",
       "                <tr>\n",
       "                        <th id=\"T_b7e0582e_b618_11ea_bde2_e86a64313f31level0_row0\" class=\"row_heading level0 row0\" >Anlagevermögen</th>\n",
       "                        <td id=\"T_b7e0582e_b618_11ea_bde2_e86a64313f31row0_col0\" class=\"data row0 col0\" >158,122,213.42</td>\n",
       "                        <td id=\"T_b7e0582e_b618_11ea_bde2_e86a64313f31row0_col1\" class=\"data row0 col1\" >185,387,014.46</td>\n",
       "            </tr>\n",
       "            <tr>\n",
       "                        <th id=\"T_b7e0582e_b618_11ea_bde2_e86a64313f31level0_row1\" class=\"row_heading level0 row1\" >Eigenkaptial</th>\n",
       "                        <td id=\"T_b7e0582e_b618_11ea_bde2_e86a64313f31row1_col0\" class=\"data row1 col0\" >250,237,910.98</td>\n",
       "                        <td id=\"T_b7e0582e_b618_11ea_bde2_e86a64313f31row1_col1\" class=\"data row1 col1\" >220,346,575.68</td>\n",
       "            </tr>\n",
       "            <tr>\n",
       "                        <th id=\"T_b7e0582e_b618_11ea_bde2_e86a64313f31level0_row2\" class=\"row_heading level0 row2\" >Fremdkaptial</th>\n",
       "                        <td id=\"T_b7e0582e_b618_11ea_bde2_e86a64313f31row2_col0\" class=\"data row2 col0\" >120,753,953.72</td>\n",
       "                        <td id=\"T_b7e0582e_b618_11ea_bde2_e86a64313f31row2_col1\" class=\"data row2 col1\" >115,750,772.06</td>\n",
       "            </tr>\n",
       "            <tr>\n",
       "                        <th id=\"T_b7e0582e_b618_11ea_bde2_e86a64313f31level0_row3\" class=\"row_heading level0 row3\" >Umlaufvermögen</th>\n",
       "                        <td id=\"T_b7e0582e_b618_11ea_bde2_e86a64313f31row3_col0\" class=\"data row3 col0\" >212,869,651.28</td>\n",
       "                        <td id=\"T_b7e0582e_b618_11ea_bde2_e86a64313f31row3_col1\" class=\"data row3 col1\" >150,710,333.28</td>\n",
       "            </tr>\n",
       "    </tbody></table>"
      ],
      "text/plain": [
       "<pandas.io.formats.style.Styler at 0x20113a1ec88>"
      ]
     },
     "execution_count": 524,
     "metadata": {},
     "output_type": "execute_result"
    }
   ],
   "source": [
    "ges.groupby(['Key_Indicator']).sum().style.format(\"{:,.2f}\").applymap(color_negative_red)"
   ]
  },
  {
   "cell_type": "code",
   "execution_count": null,
   "metadata": {},
   "outputs": [],
   "source": []
  },
  {
   "cell_type": "code",
   "execution_count": null,
   "metadata": {},
   "outputs": [],
   "source": []
  }
 ],
 "metadata": {
  "kernelspec": {
   "display_name": "Python 3",
   "language": "python",
   "name": "python3"
  },
  "language_info": {
   "codemirror_mode": {
    "name": "ipython",
    "version": 3
   },
   "file_extension": ".py",
   "mimetype": "text/x-python",
   "name": "python",
   "nbconvert_exporter": "python",
   "pygments_lexer": "ipython3",
   "version": "3.6.10"
  }
 },
 "nbformat": 4,
 "nbformat_minor": 2
}
